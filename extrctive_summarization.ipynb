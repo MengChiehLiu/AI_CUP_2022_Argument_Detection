{
  "nbformat": 4,
  "nbformat_minor": 0,
  "metadata": {
    "colab": {
      "provenance": []
    },
    "kernelspec": {
      "name": "python3",
      "display_name": "Python 3"
    },
    "language_info": {
      "name": "python"
    }
  },
  "cells": [
    {
      "cell_type": "markdown",
      "source": [
        "function ClickConnect(){\n",
        "console.log(\"Working\");\n",
        "document.querySelector(\"#top-toolbar > colab-connect-button\").shadowRoot.querySelector(\"#connect\").click();\n",
        "}\n",
        "setInterval(ClickConnect,60000)"
      ],
      "metadata": {
        "id": "7sfeFaiD88HS"
      }
    },
    {
      "cell_type": "markdown",
      "source": [
        "## Base Line"
      ],
      "metadata": {
        "id": "WzjrtkBl9H7v"
      }
    },
    {
      "cell_type": "code",
      "execution_count": null,
      "metadata": {
        "colab": {
          "base_uri": "https://localhost:8080/"
        },
        "id": "FVtvHR7e8yn3",
        "outputId": "8a01b5aa-a0ec-4192-e87a-44d6e81faa87"
      },
      "outputs": [
        {
          "output_type": "stream",
          "name": "stdout",
          "text": [
            "Mounted at /content/drive\n"
          ]
        }
      ],
      "source": [
        "from google.colab import drive\n",
        "drive.mount('/content/drive')"
      ]
    },
    {
      "cell_type": "code",
      "source": [
        "import pandas as pd"
      ],
      "metadata": {
        "id": "EXwiP6mi9cDb"
      },
      "execution_count": null,
      "outputs": []
    },
    {
      "cell_type": "code",
      "source": [
        "# load csv\n",
        "train_path = \"/content/drive/Shareddrives/AI_CUP_NLP/Batch_answers - train_data (no-blank).csv\"\n",
        "train_data = pd.read_csv(train_path, encoding = \"utf-8\", index_col='id').iloc[:,:5].applymap(lambda x: x.strip('\"')).reset_index()"
      ],
      "metadata": {
        "id": "KTPzIMYE9FKo"
      },
      "execution_count": null,
      "outputs": []
    },
    {
      "cell_type": "code",
      "source": [
        "train_data[\"length\"] = train_data[\"q'\"] + train_data[\"r'\"]\n",
        "train_data[\"length\"] = train_data[\"length\"].map(len)\n",
        "idx = train_data.groupby(by=train_data.id)['length'].transform(max) == train_data['length']\n",
        "small_train_data = train_data[idx].reset_index(drop=True)\n",
        "small_train_data = small_train_data.groupby(by=small_train_data.id).first().reset_index(drop=True)"
      ],
      "metadata": {
        "id": "tntCPjnY9neB"
      },
      "execution_count": null,
      "outputs": []
    },
    {
      "cell_type": "code",
      "source": [
        "# 評分用LCS\n",
        "import nltk\n",
        "nltk.download('punkt')\n",
        "from nltk.tokenize import word_tokenize\n",
        "punctuations = '''!\"#$%&'()*+, -./:;<=>?@[\\]^_`{|}~'''\n",
        "\n",
        "def longestCommonSubsequence(text1: str, text2: str) -> int:\n",
        "\n",
        "    text1 = [i for i in word_tokenize(text1) if len(i)>1 or i not in punctuations]\n",
        "    text2 = [i for i in word_tokenize(text2) if len(i)>1 or i not in punctuations]\n",
        "\n",
        "    if len(text2) > len(text1):\n",
        "        text1, text2 = text2, text1\n",
        "    lcs = [[0]*(len(text2)+1) for _ in range(2)]\n",
        "    for i in range(1, len(text1)+1):\n",
        "        for j in range(1, len(text2)+1):\n",
        "            if text1[i-1]== text2[j-1]:\n",
        "                lcs[i%2][j] = lcs[(i-1) % 2][j-1] +1\n",
        "            else:\n",
        "                lcs[i%2][j]= max(lcs[(i-1)%2][j], lcs[i % 2][j-1])\n",
        "    lcs = lcs[len(text1)% 2][len(text2)]\n",
        "    return lcs/(len(text1)+len(text2)-lcs)"
      ],
      "metadata": {
        "colab": {
          "base_uri": "https://localhost:8080/"
        },
        "id": "_p1nDMLm9BOT",
        "outputId": "6dae20dc-eba2-4cd8-ccca-7651d9907d00"
      },
      "execution_count": null,
      "outputs": [
        {
          "output_type": "stream",
          "name": "stderr",
          "text": [
            "[nltk_data] Downloading package punkt to /root/nltk_data...\n",
            "[nltk_data]   Package punkt is already up-to-date!\n"
          ]
        }
      ]
    },
    {
      "cell_type": "code",
      "source": [
        "from tqdm import tqdm"
      ],
      "metadata": {
        "id": "wD2n0vDG-kRK"
      },
      "execution_count": null,
      "outputs": []
    },
    {
      "cell_type": "code",
      "source": [
        "q_score_list = []\n",
        "r_score_list = []\n",
        "\n",
        "for i in tqdm(small_train_data.index):\n",
        "  try:\n",
        "    q_score = longestCommonSubsequence(small_train_data['q'][i], small_train_data[\"q'\"][i])\n",
        "    r_score = longestCommonSubsequence(small_train_data['r'][i], small_train_data[\"r'\"][i])\n",
        "  except:\n",
        "    q_score = -1\n",
        "    r_score = -1\n",
        "  \n",
        "  q_score_list.append(q_score)\n",
        "  r_score_list.append(r_score)\n",
        "\n",
        "small_train_data['q_score'] = q_score_list\n",
        "small_train_data['r_score'] = r_score_list"
      ],
      "metadata": {
        "colab": {
          "base_uri": "https://localhost:8080/"
        },
        "id": "HOxZ5mbc-Syz",
        "outputId": "6a8af1f8-3344-46ff-bc40-a95635087f00"
      },
      "execution_count": null,
      "outputs": [
        {
          "output_type": "stream",
          "name": "stderr",
          "text": [
            "100%|██████████| 7987/7987 [00:45<00:00, 173.82it/s]\n"
          ]
        }
      ]
    },
    {
      "cell_type": "code",
      "source": [
        "sum(small_train_data['q_score']==-1), sum(small_train_data['r_score']==-1)"
      ],
      "metadata": {
        "colab": {
          "base_uri": "https://localhost:8080/"
        },
        "id": "lKn_fk5o_hhw",
        "outputId": "a2ebbe5d-8ca9-4750-d9c7-555f36582108"
      },
      "execution_count": null,
      "outputs": [
        {
          "output_type": "execute_result",
          "data": {
            "text/plain": [
              "(0, 0)"
            ]
          },
          "metadata": {},
          "execution_count": 14
        }
      ]
    },
    {
      "cell_type": "code",
      "source": [
        "q_base_line = small_train_data['q_score'].sum() / small_train_data['q_score'].count()\n",
        "r_base_line = small_train_data['r_score'].sum() / small_train_data['r_score'].count()\n",
        "\n",
        "q_base_line, r_base_line, (q_base_line+r_base_line)/2"
      ],
      "metadata": {
        "colab": {
          "base_uri": "https://localhost:8080/"
        },
        "id": "7z2cwtwQ_omM",
        "outputId": "d95c2491-30f7-453b-ad00-1832e8304239"
      },
      "execution_count": null,
      "outputs": [
        {
          "output_type": "execute_result",
          "data": {
            "text/plain": [
              "(0.7111274291681386, 0.6609471793216652, 0.686037304244902)"
            ]
          },
          "metadata": {},
          "execution_count": 18
        }
      ]
    },
    {
      "cell_type": "markdown",
      "source": [
        "## Test Data"
      ],
      "metadata": {
        "id": "t-4UhZDlB-is"
      }
    },
    {
      "cell_type": "code",
      "source": [
        "test_df = pd.read_csv('/content/drive/Shareddrives/AI_CUP_NLP/Batch_answers - test_data(no_label).csv', index_col='id')"
      ],
      "metadata": {
        "id": "qwXJMJZYCCZW"
      },
      "execution_count": null,
      "outputs": []
    },
    {
      "cell_type": "code",
      "source": [
        "fake_answer = test_df.drop('s', axis=1)\n",
        "fake_answer.to_csv('/content/drive/Shareddrives/AI_CUP_NLP/fake_answer.csv')"
      ],
      "metadata": {
        "id": "FSJn2ZA9CIiy"
      },
      "execution_count": null,
      "outputs": []
    }
  ]
}
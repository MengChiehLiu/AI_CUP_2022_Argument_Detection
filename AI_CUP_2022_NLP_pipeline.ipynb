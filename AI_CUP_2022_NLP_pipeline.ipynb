{
  "nbformat": 4,
  "nbformat_minor": 0,
  "metadata": {
    "colab": {
      "provenance": [],
      "collapsed_sections": [
        "OKTblcRVMj0z",
        "F8HRZYaNMdJr",
        "FgNQiJfOneve",
        "KWx77XFxnkFr",
        "gqM5k6i7qOWs"
      ]
    },
    "kernelspec": {
      "name": "python3",
      "display_name": "Python 3"
    },
    "language_info": {
      "name": "python"
    },
    "gpuClass": "standard",
    "accelerator": "GPU",
    "widgets": {
      "application/vnd.jupyter.widget-state+json": {
        "c7edf0ddccd046bd9c1beb7b33f2ad6a": {
          "model_module": "@jupyter-widgets/controls",
          "model_name": "HBoxModel",
          "model_module_version": "1.5.0",
          "state": {
            "_dom_classes": [],
            "_model_module": "@jupyter-widgets/controls",
            "_model_module_version": "1.5.0",
            "_model_name": "HBoxModel",
            "_view_count": null,
            "_view_module": "@jupyter-widgets/controls",
            "_view_module_version": "1.5.0",
            "_view_name": "HBoxView",
            "box_style": "",
            "children": [
              "IPY_MODEL_66c76d5e0d644ae69cc65df60c1addbe",
              "IPY_MODEL_8e1055fea4a1414184c79e97e5531995",
              "IPY_MODEL_95bdfd8b94434bd88691afc4269c8599"
            ],
            "layout": "IPY_MODEL_f62873ac98ce4215a18a2f9aaca395ce"
          }
        },
        "66c76d5e0d644ae69cc65df60c1addbe": {
          "model_module": "@jupyter-widgets/controls",
          "model_name": "HTMLModel",
          "model_module_version": "1.5.0",
          "state": {
            "_dom_classes": [],
            "_model_module": "@jupyter-widgets/controls",
            "_model_module_version": "1.5.0",
            "_model_name": "HTMLModel",
            "_view_count": null,
            "_view_module": "@jupyter-widgets/controls",
            "_view_module_version": "1.5.0",
            "_view_name": "HTMLView",
            "description": "",
            "description_tooltip": null,
            "layout": "IPY_MODEL_e9be36d343cb48b3a16394bcf1da6426",
            "placeholder": "​",
            "style": "IPY_MODEL_d04b8e2f7e3e448492f4a4421cbe0397",
            "value": "Downloading: 100%"
          }
        },
        "8e1055fea4a1414184c79e97e5531995": {
          "model_module": "@jupyter-widgets/controls",
          "model_name": "FloatProgressModel",
          "model_module_version": "1.5.0",
          "state": {
            "_dom_classes": [],
            "_model_module": "@jupyter-widgets/controls",
            "_model_module_version": "1.5.0",
            "_model_name": "FloatProgressModel",
            "_view_count": null,
            "_view_module": "@jupyter-widgets/controls",
            "_view_module_version": "1.5.0",
            "_view_name": "ProgressView",
            "bar_style": "success",
            "description": "",
            "description_tooltip": null,
            "layout": "IPY_MODEL_fc4b25b49b8347ed8a4a9e85ddcf1a58",
            "max": 571,
            "min": 0,
            "orientation": "horizontal",
            "style": "IPY_MODEL_60bfd18aba8e4f3e902ae4e6414196b5",
            "value": 571
          }
        },
        "95bdfd8b94434bd88691afc4269c8599": {
          "model_module": "@jupyter-widgets/controls",
          "model_name": "HTMLModel",
          "model_module_version": "1.5.0",
          "state": {
            "_dom_classes": [],
            "_model_module": "@jupyter-widgets/controls",
            "_model_module_version": "1.5.0",
            "_model_name": "HTMLModel",
            "_view_count": null,
            "_view_module": "@jupyter-widgets/controls",
            "_view_module_version": "1.5.0",
            "_view_name": "HTMLView",
            "description": "",
            "description_tooltip": null,
            "layout": "IPY_MODEL_1b7b8a939059400f9323a97e1b0c138c",
            "placeholder": "​",
            "style": "IPY_MODEL_9f4bd504e1e5459486e9a69dbd09b49b",
            "value": " 571/571 [00:00&lt;00:00, 5.81kB/s]"
          }
        },
        "f62873ac98ce4215a18a2f9aaca395ce": {
          "model_module": "@jupyter-widgets/base",
          "model_name": "LayoutModel",
          "model_module_version": "1.2.0",
          "state": {
            "_model_module": "@jupyter-widgets/base",
            "_model_module_version": "1.2.0",
            "_model_name": "LayoutModel",
            "_view_count": null,
            "_view_module": "@jupyter-widgets/base",
            "_view_module_version": "1.2.0",
            "_view_name": "LayoutView",
            "align_content": null,
            "align_items": null,
            "align_self": null,
            "border": null,
            "bottom": null,
            "display": null,
            "flex": null,
            "flex_flow": null,
            "grid_area": null,
            "grid_auto_columns": null,
            "grid_auto_flow": null,
            "grid_auto_rows": null,
            "grid_column": null,
            "grid_gap": null,
            "grid_row": null,
            "grid_template_areas": null,
            "grid_template_columns": null,
            "grid_template_rows": null,
            "height": null,
            "justify_content": null,
            "justify_items": null,
            "left": null,
            "margin": null,
            "max_height": null,
            "max_width": null,
            "min_height": null,
            "min_width": null,
            "object_fit": null,
            "object_position": null,
            "order": null,
            "overflow": null,
            "overflow_x": null,
            "overflow_y": null,
            "padding": null,
            "right": null,
            "top": null,
            "visibility": null,
            "width": null
          }
        },
        "e9be36d343cb48b3a16394bcf1da6426": {
          "model_module": "@jupyter-widgets/base",
          "model_name": "LayoutModel",
          "model_module_version": "1.2.0",
          "state": {
            "_model_module": "@jupyter-widgets/base",
            "_model_module_version": "1.2.0",
            "_model_name": "LayoutModel",
            "_view_count": null,
            "_view_module": "@jupyter-widgets/base",
            "_view_module_version": "1.2.0",
            "_view_name": "LayoutView",
            "align_content": null,
            "align_items": null,
            "align_self": null,
            "border": null,
            "bottom": null,
            "display": null,
            "flex": null,
            "flex_flow": null,
            "grid_area": null,
            "grid_auto_columns": null,
            "grid_auto_flow": null,
            "grid_auto_rows": null,
            "grid_column": null,
            "grid_gap": null,
            "grid_row": null,
            "grid_template_areas": null,
            "grid_template_columns": null,
            "grid_template_rows": null,
            "height": null,
            "justify_content": null,
            "justify_items": null,
            "left": null,
            "margin": null,
            "max_height": null,
            "max_width": null,
            "min_height": null,
            "min_width": null,
            "object_fit": null,
            "object_position": null,
            "order": null,
            "overflow": null,
            "overflow_x": null,
            "overflow_y": null,
            "padding": null,
            "right": null,
            "top": null,
            "visibility": null,
            "width": null
          }
        },
        "d04b8e2f7e3e448492f4a4421cbe0397": {
          "model_module": "@jupyter-widgets/controls",
          "model_name": "DescriptionStyleModel",
          "model_module_version": "1.5.0",
          "state": {
            "_model_module": "@jupyter-widgets/controls",
            "_model_module_version": "1.5.0",
            "_model_name": "DescriptionStyleModel",
            "_view_count": null,
            "_view_module": "@jupyter-widgets/base",
            "_view_module_version": "1.2.0",
            "_view_name": "StyleView",
            "description_width": ""
          }
        },
        "fc4b25b49b8347ed8a4a9e85ddcf1a58": {
          "model_module": "@jupyter-widgets/base",
          "model_name": "LayoutModel",
          "model_module_version": "1.2.0",
          "state": {
            "_model_module": "@jupyter-widgets/base",
            "_model_module_version": "1.2.0",
            "_model_name": "LayoutModel",
            "_view_count": null,
            "_view_module": "@jupyter-widgets/base",
            "_view_module_version": "1.2.0",
            "_view_name": "LayoutView",
            "align_content": null,
            "align_items": null,
            "align_self": null,
            "border": null,
            "bottom": null,
            "display": null,
            "flex": null,
            "flex_flow": null,
            "grid_area": null,
            "grid_auto_columns": null,
            "grid_auto_flow": null,
            "grid_auto_rows": null,
            "grid_column": null,
            "grid_gap": null,
            "grid_row": null,
            "grid_template_areas": null,
            "grid_template_columns": null,
            "grid_template_rows": null,
            "height": null,
            "justify_content": null,
            "justify_items": null,
            "left": null,
            "margin": null,
            "max_height": null,
            "max_width": null,
            "min_height": null,
            "min_width": null,
            "object_fit": null,
            "object_position": null,
            "order": null,
            "overflow": null,
            "overflow_x": null,
            "overflow_y": null,
            "padding": null,
            "right": null,
            "top": null,
            "visibility": null,
            "width": null
          }
        },
        "60bfd18aba8e4f3e902ae4e6414196b5": {
          "model_module": "@jupyter-widgets/controls",
          "model_name": "ProgressStyleModel",
          "model_module_version": "1.5.0",
          "state": {
            "_model_module": "@jupyter-widgets/controls",
            "_model_module_version": "1.5.0",
            "_model_name": "ProgressStyleModel",
            "_view_count": null,
            "_view_module": "@jupyter-widgets/base",
            "_view_module_version": "1.2.0",
            "_view_name": "StyleView",
            "bar_color": null,
            "description_width": ""
          }
        },
        "1b7b8a939059400f9323a97e1b0c138c": {
          "model_module": "@jupyter-widgets/base",
          "model_name": "LayoutModel",
          "model_module_version": "1.2.0",
          "state": {
            "_model_module": "@jupyter-widgets/base",
            "_model_module_version": "1.2.0",
            "_model_name": "LayoutModel",
            "_view_count": null,
            "_view_module": "@jupyter-widgets/base",
            "_view_module_version": "1.2.0",
            "_view_name": "LayoutView",
            "align_content": null,
            "align_items": null,
            "align_self": null,
            "border": null,
            "bottom": null,
            "display": null,
            "flex": null,
            "flex_flow": null,
            "grid_area": null,
            "grid_auto_columns": null,
            "grid_auto_flow": null,
            "grid_auto_rows": null,
            "grid_column": null,
            "grid_gap": null,
            "grid_row": null,
            "grid_template_areas": null,
            "grid_template_columns": null,
            "grid_template_rows": null,
            "height": null,
            "justify_content": null,
            "justify_items": null,
            "left": null,
            "margin": null,
            "max_height": null,
            "max_width": null,
            "min_height": null,
            "min_width": null,
            "object_fit": null,
            "object_position": null,
            "order": null,
            "overflow": null,
            "overflow_x": null,
            "overflow_y": null,
            "padding": null,
            "right": null,
            "top": null,
            "visibility": null,
            "width": null
          }
        },
        "9f4bd504e1e5459486e9a69dbd09b49b": {
          "model_module": "@jupyter-widgets/controls",
          "model_name": "DescriptionStyleModel",
          "model_module_version": "1.5.0",
          "state": {
            "_model_module": "@jupyter-widgets/controls",
            "_model_module_version": "1.5.0",
            "_model_name": "DescriptionStyleModel",
            "_view_count": null,
            "_view_module": "@jupyter-widgets/base",
            "_view_module_version": "1.2.0",
            "_view_name": "StyleView",
            "description_width": ""
          }
        },
        "43cb8f5c3c754c2683c8ed483a16fa06": {
          "model_module": "@jupyter-widgets/controls",
          "model_name": "HBoxModel",
          "model_module_version": "1.5.0",
          "state": {
            "_dom_classes": [],
            "_model_module": "@jupyter-widgets/controls",
            "_model_module_version": "1.5.0",
            "_model_name": "HBoxModel",
            "_view_count": null,
            "_view_module": "@jupyter-widgets/controls",
            "_view_module_version": "1.5.0",
            "_view_name": "HBoxView",
            "box_style": "",
            "children": [
              "IPY_MODEL_85ce9abfa32b4dbd9c41c471d0877dfc",
              "IPY_MODEL_de49f59037e54fd186a5b6fd29578671",
              "IPY_MODEL_17bd8cabb7d941d2b1c51e996617e9d1"
            ],
            "layout": "IPY_MODEL_72f00a58a06c4124ac9718465ef53d42"
          }
        },
        "85ce9abfa32b4dbd9c41c471d0877dfc": {
          "model_module": "@jupyter-widgets/controls",
          "model_name": "HTMLModel",
          "model_module_version": "1.5.0",
          "state": {
            "_dom_classes": [],
            "_model_module": "@jupyter-widgets/controls",
            "_model_module_version": "1.5.0",
            "_model_name": "HTMLModel",
            "_view_count": null,
            "_view_module": "@jupyter-widgets/controls",
            "_view_module_version": "1.5.0",
            "_view_name": "HTMLView",
            "description": "",
            "description_tooltip": null,
            "layout": "IPY_MODEL_793e9e88a55848789b52c6d6f99dc542",
            "placeholder": "​",
            "style": "IPY_MODEL_e621826539004032a5ceb0204ff9dbc8",
            "value": "Downloading:  63%"
          }
        },
        "de49f59037e54fd186a5b6fd29578671": {
          "model_module": "@jupyter-widgets/controls",
          "model_name": "FloatProgressModel",
          "model_module_version": "1.5.0",
          "state": {
            "_dom_classes": [],
            "_model_module": "@jupyter-widgets/controls",
            "_model_module_version": "1.5.0",
            "_model_name": "FloatProgressModel",
            "_view_count": null,
            "_view_module": "@jupyter-widgets/controls",
            "_view_module_version": "1.5.0",
            "_view_name": "ProgressView",
            "bar_style": "",
            "description": "",
            "description_tooltip": null,
            "layout": "IPY_MODEL_877d10ea23db41beb199c2b33bab6fff",
            "max": 1344997306,
            "min": 0,
            "orientation": "horizontal",
            "style": "IPY_MODEL_89d870c8b6234867bbad9311ff1c0cf8",
            "value": 847333376
          }
        },
        "17bd8cabb7d941d2b1c51e996617e9d1": {
          "model_module": "@jupyter-widgets/controls",
          "model_name": "HTMLModel",
          "model_module_version": "1.5.0",
          "state": {
            "_dom_classes": [],
            "_model_module": "@jupyter-widgets/controls",
            "_model_module_version": "1.5.0",
            "_model_name": "HTMLModel",
            "_view_count": null,
            "_view_module": "@jupyter-widgets/controls",
            "_view_module_version": "1.5.0",
            "_view_name": "HTMLView",
            "description": "",
            "description_tooltip": null,
            "layout": "IPY_MODEL_a0b125f6bfee416385d7fee28ae1c0f2",
            "placeholder": "​",
            "style": "IPY_MODEL_287bfce3f4ea4f9abe929ec78a464c3f",
            "value": " 847M/1.34G [00:14&lt;00:06, 80.4MB/s]"
          }
        },
        "72f00a58a06c4124ac9718465ef53d42": {
          "model_module": "@jupyter-widgets/base",
          "model_name": "LayoutModel",
          "model_module_version": "1.2.0",
          "state": {
            "_model_module": "@jupyter-widgets/base",
            "_model_module_version": "1.2.0",
            "_model_name": "LayoutModel",
            "_view_count": null,
            "_view_module": "@jupyter-widgets/base",
            "_view_module_version": "1.2.0",
            "_view_name": "LayoutView",
            "align_content": null,
            "align_items": null,
            "align_self": null,
            "border": null,
            "bottom": null,
            "display": null,
            "flex": null,
            "flex_flow": null,
            "grid_area": null,
            "grid_auto_columns": null,
            "grid_auto_flow": null,
            "grid_auto_rows": null,
            "grid_column": null,
            "grid_gap": null,
            "grid_row": null,
            "grid_template_areas": null,
            "grid_template_columns": null,
            "grid_template_rows": null,
            "height": null,
            "justify_content": null,
            "justify_items": null,
            "left": null,
            "margin": null,
            "max_height": null,
            "max_width": null,
            "min_height": null,
            "min_width": null,
            "object_fit": null,
            "object_position": null,
            "order": null,
            "overflow": null,
            "overflow_x": null,
            "overflow_y": null,
            "padding": null,
            "right": null,
            "top": null,
            "visibility": null,
            "width": null
          }
        },
        "793e9e88a55848789b52c6d6f99dc542": {
          "model_module": "@jupyter-widgets/base",
          "model_name": "LayoutModel",
          "model_module_version": "1.2.0",
          "state": {
            "_model_module": "@jupyter-widgets/base",
            "_model_module_version": "1.2.0",
            "_model_name": "LayoutModel",
            "_view_count": null,
            "_view_module": "@jupyter-widgets/base",
            "_view_module_version": "1.2.0",
            "_view_name": "LayoutView",
            "align_content": null,
            "align_items": null,
            "align_self": null,
            "border": null,
            "bottom": null,
            "display": null,
            "flex": null,
            "flex_flow": null,
            "grid_area": null,
            "grid_auto_columns": null,
            "grid_auto_flow": null,
            "grid_auto_rows": null,
            "grid_column": null,
            "grid_gap": null,
            "grid_row": null,
            "grid_template_areas": null,
            "grid_template_columns": null,
            "grid_template_rows": null,
            "height": null,
            "justify_content": null,
            "justify_items": null,
            "left": null,
            "margin": null,
            "max_height": null,
            "max_width": null,
            "min_height": null,
            "min_width": null,
            "object_fit": null,
            "object_position": null,
            "order": null,
            "overflow": null,
            "overflow_x": null,
            "overflow_y": null,
            "padding": null,
            "right": null,
            "top": null,
            "visibility": null,
            "width": null
          }
        },
        "e621826539004032a5ceb0204ff9dbc8": {
          "model_module": "@jupyter-widgets/controls",
          "model_name": "DescriptionStyleModel",
          "model_module_version": "1.5.0",
          "state": {
            "_model_module": "@jupyter-widgets/controls",
            "_model_module_version": "1.5.0",
            "_model_name": "DescriptionStyleModel",
            "_view_count": null,
            "_view_module": "@jupyter-widgets/base",
            "_view_module_version": "1.2.0",
            "_view_name": "StyleView",
            "description_width": ""
          }
        },
        "877d10ea23db41beb199c2b33bab6fff": {
          "model_module": "@jupyter-widgets/base",
          "model_name": "LayoutModel",
          "model_module_version": "1.2.0",
          "state": {
            "_model_module": "@jupyter-widgets/base",
            "_model_module_version": "1.2.0",
            "_model_name": "LayoutModel",
            "_view_count": null,
            "_view_module": "@jupyter-widgets/base",
            "_view_module_version": "1.2.0",
            "_view_name": "LayoutView",
            "align_content": null,
            "align_items": null,
            "align_self": null,
            "border": null,
            "bottom": null,
            "display": null,
            "flex": null,
            "flex_flow": null,
            "grid_area": null,
            "grid_auto_columns": null,
            "grid_auto_flow": null,
            "grid_auto_rows": null,
            "grid_column": null,
            "grid_gap": null,
            "grid_row": null,
            "grid_template_areas": null,
            "grid_template_columns": null,
            "grid_template_rows": null,
            "height": null,
            "justify_content": null,
            "justify_items": null,
            "left": null,
            "margin": null,
            "max_height": null,
            "max_width": null,
            "min_height": null,
            "min_width": null,
            "object_fit": null,
            "object_position": null,
            "order": null,
            "overflow": null,
            "overflow_x": null,
            "overflow_y": null,
            "padding": null,
            "right": null,
            "top": null,
            "visibility": null,
            "width": null
          }
        },
        "89d870c8b6234867bbad9311ff1c0cf8": {
          "model_module": "@jupyter-widgets/controls",
          "model_name": "ProgressStyleModel",
          "model_module_version": "1.5.0",
          "state": {
            "_model_module": "@jupyter-widgets/controls",
            "_model_module_version": "1.5.0",
            "_model_name": "ProgressStyleModel",
            "_view_count": null,
            "_view_module": "@jupyter-widgets/base",
            "_view_module_version": "1.2.0",
            "_view_name": "StyleView",
            "bar_color": null,
            "description_width": ""
          }
        },
        "a0b125f6bfee416385d7fee28ae1c0f2": {
          "model_module": "@jupyter-widgets/base",
          "model_name": "LayoutModel",
          "model_module_version": "1.2.0",
          "state": {
            "_model_module": "@jupyter-widgets/base",
            "_model_module_version": "1.2.0",
            "_model_name": "LayoutModel",
            "_view_count": null,
            "_view_module": "@jupyter-widgets/base",
            "_view_module_version": "1.2.0",
            "_view_name": "LayoutView",
            "align_content": null,
            "align_items": null,
            "align_self": null,
            "border": null,
            "bottom": null,
            "display": null,
            "flex": null,
            "flex_flow": null,
            "grid_area": null,
            "grid_auto_columns": null,
            "grid_auto_flow": null,
            "grid_auto_rows": null,
            "grid_column": null,
            "grid_gap": null,
            "grid_row": null,
            "grid_template_areas": null,
            "grid_template_columns": null,
            "grid_template_rows": null,
            "height": null,
            "justify_content": null,
            "justify_items": null,
            "left": null,
            "margin": null,
            "max_height": null,
            "max_width": null,
            "min_height": null,
            "min_width": null,
            "object_fit": null,
            "object_position": null,
            "order": null,
            "overflow": null,
            "overflow_x": null,
            "overflow_y": null,
            "padding": null,
            "right": null,
            "top": null,
            "visibility": null,
            "width": null
          }
        },
        "287bfce3f4ea4f9abe929ec78a464c3f": {
          "model_module": "@jupyter-widgets/controls",
          "model_name": "DescriptionStyleModel",
          "model_module_version": "1.5.0",
          "state": {
            "_model_module": "@jupyter-widgets/controls",
            "_model_module_version": "1.5.0",
            "_model_name": "DescriptionStyleModel",
            "_view_count": null,
            "_view_module": "@jupyter-widgets/base",
            "_view_module_version": "1.2.0",
            "_view_name": "StyleView",
            "description_width": ""
          }
        }
      }
    }
  },
  "cells": [
    {
      "cell_type": "markdown",
      "source": [
        "# AI CUP 2022: Argument Detection\n",
        "Meng-Chieh, Liu  \n",
        "2022/11/28"
      ],
      "metadata": {
        "id": "ASslyzLxMRDf"
      }
    },
    {
      "cell_type": "markdown",
      "source": [
        "### Note\n",
        "The columns should contain only q, r and s  \n",
        "\n",
        "q_length, r_length, is_q\n",
        "\n",
        "pipeline (for each data):  . \n",
        "1. read and get length feature\n",
        "2. sentencize\n",
        "3. directly return sentence if count==1\n",
        "4. extractive long sentence\n",
        "5. model predict (batch)\n",
        "\n"
      ],
      "metadata": {
        "id": "6nXd-VS5MW2I"
      }
    },
    {
      "cell_type": "markdown",
      "source": [
        "function ClickConnect(){\n",
        "console.log(\"Working\");\n",
        "document.querySelector(\"#top-toolbar > colab-connect-button\").shadowRoot.querySelector(\"#connect\").click();\n",
        "}\n",
        "setInterval(ClickConnect,60000)"
      ],
      "metadata": {
        "id": "7sfeFaiD88HS"
      }
    },
    {
      "cell_type": "code",
      "source": [
        "from google.colab import drive\n",
        "drive.mount('/content/drive')"
      ],
      "metadata": {
        "id": "Bghf32hYMmPv",
        "colab": {
          "base_uri": "https://localhost:8080/"
        },
        "outputId": "c97cc694-9f1b-406b-c86e-1dc5cd8066fb"
      },
      "execution_count": 1,
      "outputs": [
        {
          "output_type": "stream",
          "name": "stdout",
          "text": [
            "Mounted at /content/drive\n"
          ]
        }
      ]
    },
    {
      "cell_type": "markdown",
      "source": [
        "### Import"
      ],
      "metadata": {
        "id": "OKTblcRVMj0z"
      }
    },
    {
      "cell_type": "code",
      "source": [
        "!pip install -q torchtext torch pytorch-lightning\n",
        "!pip install -q transformers\n",
        "!pip install -q nltk==3.7\n",
        "!pip install -q bert-extractive-summarizer"
      ],
      "metadata": {
        "id": "ULc2-bFUMomF",
        "colab": {
          "base_uri": "https://localhost:8080/"
        },
        "outputId": "abb79c00-5821-4f4b-e671-a7babc9fc60b"
      },
      "execution_count": 2,
      "outputs": [
        {
          "output_type": "stream",
          "name": "stdout",
          "text": [
            "\u001b[K     |████████████████████████████████| 798 kB 7.3 MB/s \n",
            "\u001b[K     |████████████████████████████████| 125 kB 81.8 MB/s \n",
            "\u001b[K     |████████████████████████████████| 512 kB 65.1 MB/s \n",
            "\u001b[K     |████████████████████████████████| 87 kB 7.5 MB/s \n",
            "\u001b[?25h  Building wheel for fire (setup.py) ... \u001b[?25l\u001b[?25hdone\n",
            "\u001b[K     |████████████████████████████████| 5.8 MB 7.7 MB/s \n",
            "\u001b[K     |████████████████████████████████| 182 kB 78.2 MB/s \n",
            "\u001b[K     |████████████████████████████████| 7.6 MB 26.9 MB/s \n",
            "\u001b[?25h"
          ]
        }
      ]
    },
    {
      "cell_type": "code",
      "source": [
        "# Import all libraries\n",
        "import pandas as pd\n",
        "import numpy as np\n",
        "import re\n",
        "import pickle\n",
        "from tqdm import tqdm\n",
        "\n",
        "# Huggingface transformers\n",
        "import transformers\n",
        "from transformers import BertTokenizer, BertModel, get_linear_schedule_with_warmup\n",
        "\n",
        "import torch\n",
        "from torch import nn, cuda\n",
        "from torchmetrics import Accuracy, F1Score\n",
        "from torch.utils.data import DataLoader,Dataset,RandomSampler, SequentialSampler\n",
        "\n",
        "import pytorch_lightning as pl\n",
        "from pytorch_lightning.callbacks import ModelCheckpoint\n",
        "\n",
        "from sklearn.model_selection import train_test_split\n",
        "from sklearn.metrics import accuracy_score, precision_recall_fscore_support\n",
        "from sklearn.utils import shuffle\n",
        "from sklearn.preprocessing import StandardScaler\n",
        "\n",
        "import seaborn as sns\n",
        "from pylab import rcParams\n",
        "import matplotlib.pyplot as plt\n",
        "from matplotlib import rc\n",
        "%matplotlib inline\n",
        "\n",
        "import spacy\n",
        "import nltk\n",
        "nltk.download('punkt')\n",
        "from nltk.tokenize import word_tokenize\n",
        "punctuations = '''!\"#$%&'()*+, -./:;<=>?@[\\]^_`{|}~'''\n",
        "\n",
        "from summarizer import Summarizer\n",
        "\n",
        "\n",
        "RANDOM_SEED = 666\n",
        "np.random.seed(RANDOM_SEED)\n",
        "torch.manual_seed(RANDOM_SEED)\n",
        "\n",
        "device = torch.device(\"cuda:0\" if torch.cuda.is_available() else \"cpu\")\n",
        "bert_summarizer = Summarizer()\n",
        "tokenizer = BertTokenizer.from_pretrained(\"bert-base-uncased\")\n",
        "sentencizer = spacy.load('en_core_web_sm')"
      ],
      "metadata": {
        "id": "GtzPU9jLMqIK",
        "colab": {
          "base_uri": "https://localhost:8080/",
          "height": 0,
          "referenced_widgets": [
            "c7edf0ddccd046bd9c1beb7b33f2ad6a",
            "66c76d5e0d644ae69cc65df60c1addbe",
            "8e1055fea4a1414184c79e97e5531995",
            "95bdfd8b94434bd88691afc4269c8599",
            "f62873ac98ce4215a18a2f9aaca395ce",
            "e9be36d343cb48b3a16394bcf1da6426",
            "d04b8e2f7e3e448492f4a4421cbe0397",
            "fc4b25b49b8347ed8a4a9e85ddcf1a58",
            "60bfd18aba8e4f3e902ae4e6414196b5",
            "1b7b8a939059400f9323a97e1b0c138c",
            "9f4bd504e1e5459486e9a69dbd09b49b",
            "43cb8f5c3c754c2683c8ed483a16fa06",
            "85ce9abfa32b4dbd9c41c471d0877dfc",
            "de49f59037e54fd186a5b6fd29578671",
            "17bd8cabb7d941d2b1c51e996617e9d1",
            "72f00a58a06c4124ac9718465ef53d42",
            "793e9e88a55848789b52c6d6f99dc542",
            "e621826539004032a5ceb0204ff9dbc8",
            "877d10ea23db41beb199c2b33bab6fff",
            "89d870c8b6234867bbad9311ff1c0cf8",
            "a0b125f6bfee416385d7fee28ae1c0f2",
            "287bfce3f4ea4f9abe929ec78a464c3f"
          ]
        },
        "outputId": "92a21efe-c553-46a2-c85d-7fb60ff7ee55"
      },
      "execution_count": null,
      "outputs": [
        {
          "output_type": "stream",
          "name": "stderr",
          "text": [
            "[nltk_data] Downloading package punkt to /root/nltk_data...\n",
            "[nltk_data]   Unzipping tokenizers/punkt.zip.\n"
          ]
        },
        {
          "output_type": "display_data",
          "data": {
            "text/plain": [
              "Downloading:   0%|          | 0.00/571 [00:00<?, ?B/s]"
            ],
            "application/vnd.jupyter.widget-view+json": {
              "version_major": 2,
              "version_minor": 0,
              "model_id": "c7edf0ddccd046bd9c1beb7b33f2ad6a"
            }
          },
          "metadata": {}
        },
        {
          "output_type": "display_data",
          "data": {
            "text/plain": [
              "Downloading:   0%|          | 0.00/1.34G [00:00<?, ?B/s]"
            ],
            "application/vnd.jupyter.widget-view+json": {
              "version_major": 2,
              "version_minor": 0,
              "model_id": "43cb8f5c3c754c2683c8ed483a16fa06"
            }
          },
          "metadata": {}
        }
      ]
    },
    {
      "cell_type": "markdown",
      "source": [
        "### Preprocessing"
      ],
      "metadata": {
        "id": "F8HRZYaNMdJr"
      }
    },
    {
      "cell_type": "code",
      "source": [
        "def read_df(df_path):\n",
        "  df = pd.read_csv(df_path, encoding = \"utf-8\", index_col='id')[['q','r','s']].applymap(lambda x: x.strip('\"'))\n",
        "  df['q_length'] = df['q'].map(len)\n",
        "  df['r_length'] = df['r'].map(len)\n",
        "  return df"
      ],
      "metadata": {
        "id": "VXqrI7GfMvaw"
      },
      "execution_count": null,
      "outputs": []
    },
    {
      "cell_type": "code",
      "source": [
        "def sentencize(sentence):\n",
        "\n",
        "  return [str(sent) for sent in sentencizer(sentence).sents]"
      ],
      "metadata": {
        "id": "ha6zstfbNqIl"
      },
      "execution_count": null,
      "outputs": []
    },
    {
      "cell_type": "code",
      "source": [
        "def bert_token_length(text):\n",
        "  tokens = tokenizer.encode_plus(text, add_special_tokens=True)\n",
        "  return len(tokens['input_ids'])\n",
        "\n",
        "def spacy_sentencize_count(sentence):\n",
        "  return len([sent for sent in sentencizer(sentence).sents])"
      ],
      "metadata": {
        "id": "DGdQABGFgEmb"
      },
      "execution_count": null,
      "outputs": []
    },
    {
      "cell_type": "code",
      "source": [
        "def bert_summarize(sentence):\n",
        "\n",
        "  token_length = bert_token_length(sentence)\n",
        "\n",
        "  if token_length > 400:\n",
        "    sentence_count = spacy_sentencize_count(sentence)\n",
        "    num_sentences = round(sentence_count * 400 / token_length)\n",
        "    \n",
        "\n",
        "    bert_summary_1 = bert_summary = ''.join(bert_summarizer(sentence, num_sentences=num_sentences))\n",
        "    \n",
        "\n",
        "    while num_sentences>1 and bert_token_length(bert_summary) > 450:\n",
        "      num_sentences -= 1\n",
        "      bert_summary = ''.join(bert_summarizer(sentence, num_sentences=num_sentences))\n",
        "    \n",
        "    if bert_summary != \"\":\n",
        "      return bert_summary\n",
        "    elif bert_summary_1 != \"\":\n",
        "      return bert_summary_1\n",
        "\n",
        "  return sentence"
      ],
      "metadata": {
        "id": "dZ4PfDofN_yY"
      },
      "execution_count": null,
      "outputs": []
    },
    {
      "cell_type": "code",
      "source": [
        "import re\n",
        "def regex_remove(text):\n",
        "  text = re.sub(\"& #? ?[a-zA-Z\\d]{2,8} ; \", '', text)\n",
        "  text = re.sub(\"-- -- \", '', text)\n",
        "  return text"
      ],
      "metadata": {
        "id": "Ju7jGLyjXaSk"
      },
      "execution_count": null,
      "outputs": []
    },
    {
      "cell_type": "markdown",
      "source": [
        "### model"
      ],
      "metadata": {
        "id": "FgNQiJfOneve"
      }
    },
    {
      "cell_type": "code",
      "source": [
        "class bertDataset (Dataset):\n",
        "    def __init__(self, df, tokenizer):\n",
        "        self.tokenizer = tokenizer\n",
        "        self.q = list(df[\"q\"])\n",
        "        self.r = list(df[\"r\"])\n",
        "        self.sentence = list(df[\"sentence\"])\n",
        "        self.length = len(self.sentence)\n",
        "        self.features = torch.FloatTensor(np.array(df[['q_length', 'r_length', 'is_q']], dtype=np.float32))\n",
        "        self.max_len = 512\n",
        "        \n",
        "    def __len__(self):\n",
        "        return self.length\n",
        "    \n",
        "    def __getitem__(self, item_idx):\n",
        "        sentence_q = self.tokenizer.encode_plus(\n",
        "            self.sentence[item_idx],\n",
        "            self.q[item_idx],\n",
        "            add_special_tokens = True,\n",
        "            max_length= self.max_len,\n",
        "            padding = 'max_length',\n",
        "            return_attention_mask= True,\n",
        "            truncation=True,\n",
        "            return_tensors = 'pt'\n",
        "          )\n",
        "        \n",
        "        sentence_r = self.tokenizer.encode_plus(\n",
        "            self.sentence[item_idx],\n",
        "            self.r[item_idx],\n",
        "            add_special_tokens=True,\n",
        "            max_length= self.max_len,\n",
        "            padding = 'max_length',\n",
        "            return_attention_mask= True,\n",
        "            truncation=True,\n",
        "            return_tensors = 'pt'\n",
        "          )\n",
        "        \n",
        "        return {\n",
        "            'sentence_q': (sentence_q['input_ids'].flatten(), sentence_q['attention_mask'].flatten(), sentence_q['token_type_ids'].flatten()),\n",
        "            'sentence_r': (sentence_r['input_ids'].flatten(), sentence_r['attention_mask'].flatten(), sentence_r['token_type_ids'].flatten()),\n",
        "            'features' : self.features[item_idx]\n",
        "        }"
      ],
      "metadata": {
        "id": "yUQ5K8TTsA0U"
      },
      "execution_count": null,
      "outputs": []
    },
    {
      "cell_type": "code",
      "source": [
        "class bertClassifier(pl.LightningModule):\n",
        "    # Set up the classifier\n",
        "    def __init__(self, dropout_rate=0.1):\n",
        "        super().__init__()\n",
        "\n",
        "        self.bert1 = BertModel.from_pretrained(\"bert-base-uncased\", return_dict=True)\n",
        "        self.bert2 = BertModel.from_pretrained(\"bert-base-uncased\", return_dict=True)\n",
        "        self.fc_task1 = nn.Sequential(\n",
        "            nn.Linear(768*3+3, 512),\n",
        "            nn.ReLU(),\n",
        "            nn.Dropout(dropout_rate),\n",
        "            nn.Linear(512, 2)\n",
        "        )\n",
        "\n",
        "        self.fc_task2 = nn.Sequential(\n",
        "            nn.Linear(768*3+3, 512),\n",
        "            nn.ReLU(),\n",
        "            nn.Dropout(dropout_rate),\n",
        "            nn.Linear(512, 2)\n",
        "        )\n",
        "        self.criterion = nn.CrossEntropyLoss()\n",
        "\n",
        "\n",
        "    def forward(self, input_ids1, attention_mask1, token_type_ids1, input_ids2, attention_mask2, token_type_ids2, features):\n",
        "        sentence_q = self.bert1(input_ids=input_ids1, attention_mask=attention_mask1, token_type_ids=token_type_ids1).pooler_output\n",
        "        sentence_r = self.bert2(input_ids=input_ids2, attention_mask=attention_mask2, token_type_ids=token_type_ids2).pooler_output\n",
        "        logits = torch.cat([sentence_q, sentence_r, sentence_q*sentence_r, features], 1)\n",
        "        logits1 = self.fc_task1(logits)\n",
        "        logits2 = self.fc_task2(logits)\n",
        "        return logits1, logits2"
      ],
      "metadata": {
        "id": "ksZ7caEqncwt"
      },
      "execution_count": null,
      "outputs": []
    },
    {
      "cell_type": "markdown",
      "source": [
        "### predict"
      ],
      "metadata": {
        "id": "KWx77XFxnkFr"
      }
    },
    {
      "cell_type": "code",
      "source": [
        "def predict(df, model, dataloader):\n",
        "\n",
        "  with torch.no_grad():\n",
        "\n",
        "    softmax = nn.Softmax()\n",
        "    label_predict = torch.Tensor().to(device)\n",
        "\n",
        "    for i, batch in enumerate(tqdm(dataloader)):\n",
        "      input_ids1, attention_mask1, token_type_ids1  = batch['sentence_q']\n",
        "      input_ids2, attention_mask2, token_type_ids2  = batch['sentence_r']\n",
        "      features = batch['features']\n",
        "\n",
        "      logits1, _ = model(input_ids1.to(device), attention_mask1.to(device), token_type_ids1.to(device),\n",
        "                  input_ids2.to(device), attention_mask2.to(device), token_type_ids2.to(device), features.to(device))\n",
        "      logits1 = softmax(logits1)\n",
        "\n",
        "\n",
        "      label_predict = torch.concat([label_predict, logits1])\n",
        "\n",
        "\n",
        "  label_predict_np = label_predict.to('cpu').numpy()\n",
        "  \n",
        "  df['label_1'] = label_predict_np[:,1]\n",
        "\n",
        "  return df"
      ],
      "metadata": {
        "id": "sEG-R1UXt3nm"
      },
      "execution_count": null,
      "outputs": []
    },
    {
      "cell_type": "code",
      "source": [
        "def reformat(df_answer, df_predict, threshold=0.5):\n",
        "\n",
        "\n",
        "  for id in df_answer.index:\n",
        "\n",
        "    try:\n",
        "      data = df_predict.loc[id]\n",
        "\n",
        "      # q\n",
        "      q = data[(data['is_q']==1)].reset_index()\n",
        "      max_value = q[\"label_1\"].max()\n",
        "\n",
        "      if max_value < threshold:\n",
        "        index = q[q[\"label_1\"]==max_value].index[0]\n",
        "        q_predict = q['sentence'][index]\n",
        "      else:\n",
        "        q = q[q['label_1']>=threshold]\n",
        "        q_predict = \" \".join(q['sentence'])\n",
        "      \n",
        "      df_answer['q'][id] = q_predict\n",
        "\n",
        "\n",
        "      # r\n",
        "      r = data[(data['is_q']==0)].reset_index()\n",
        "      max_value = r[\"label_1\"].max()\n",
        "      \n",
        "      if max_value < threshold:\n",
        "        index = r[r[\"label_1\"]==max_value].index[0]\n",
        "        r_predict = r['sentence'][index]\n",
        "      else:\n",
        "        r = r[r['label_1']>=threshold]\n",
        "        r_predict = \" \".join(r['sentence'])\n",
        "      df_answer['r'][id] = r_predict\n",
        "\n",
        "    except:\n",
        "      print(f'Error in id {id}.')\n",
        "      pass\n",
        "\n",
        "  return df_answer"
      ],
      "metadata": {
        "id": "pa4wZpOCvIGu"
      },
      "execution_count": null,
      "outputs": []
    },
    {
      "cell_type": "markdown",
      "source": [
        "### main func"
      ],
      "metadata": {
        "id": "gqM5k6i7qOWs"
      }
    },
    {
      "cell_type": "code",
      "source": [
        "def main(df_path, model_path, threshold=0.5):\n",
        "  # load pretrained models\n",
        "\n",
        "\n",
        "  tokenizer = BertTokenizer.from_pretrained(\"bert-base-uncased\")\n",
        "\n",
        "  model = bertClassifier()\n",
        "  model = model.load_from_checkpoint(model_path)\n",
        "  model.eval()\n",
        "  model.to(device)\n",
        "\n",
        "\n",
        "  # preprocess\n",
        "  df = read_df(df_path)\n",
        "  df['q'] = df['q'].map(regex_remove)\n",
        "  df['r'] = df['r'].map(regex_remove)\n",
        "  print(\"except length: {}\".format(len(df))) \n",
        "  df[\"q_sentences\"] = df['q'].map(sentencize)\n",
        "  df[\"r_sentences\"] = df['r'].map(sentencize)\n",
        "  df[\"q_summary\"] = df['q'].map(bert_summarize)\n",
        "  df[\"r_summary\"] = df['r'].map(bert_summarize)\n",
        "\n",
        "\n",
        "  # reformat data\n",
        "  df_answer = pd.DataFrame(index=df.index, columns=['q', 'r'])\n",
        "  df_loader = pd.DataFrame(columns=['id','sentence', 'q', 'r', 'is_q', 'q_length', 'r_length'])\n",
        "  for id in tqdm(df.index):\n",
        "    # Q\n",
        "    if len(df[\"q_sentences\"]) <= 1:\n",
        "      df_answer['q'][id] = df['q'][id]\n",
        "    else:\n",
        "      q = pd.DataFrame(columns=['id','sentence', 'q', 'r', 'is_q', 'q_length', 'r_length'])\n",
        "      \n",
        "      q['sentence'] = df[\"q_sentences\"][id]\n",
        "      q['id'] = id\n",
        "      q['q'] = df[\"q_summary\"][id]\n",
        "      q['r'] = df[\"r_summary\"][id]\n",
        "      q['is_q'] = 1\n",
        "      q['q_length'] = df[\"q_length\"][id]\n",
        "      q['r_length'] = df[\"r_length\"][id]\n",
        "      df_loader = pd.concat([df_loader, q])\n",
        "\n",
        "    # R\n",
        "    if len(df[\"r_sentences\"]) <= 1:\n",
        "      df_answer['r'][id] = df['r'][id]\n",
        "    else:\n",
        "      r = pd.DataFrame(columns=['id','sentence', 'q', 'r', 'is_q', 'q_length', 'r_length'])\n",
        "      \n",
        "      r['sentence'] = df[\"r_sentences\"][id]\n",
        "      r['id'] = id\n",
        "      r['q'] = df[\"q_summary\"][id]\n",
        "      r['r'] = df[\"r_summary\"][id]\n",
        "      r['is_q'] = 0\n",
        "      r['q_length'] = df[\"q_length\"][id]\n",
        "      r['r_length'] = df[\"r_length\"][id]\n",
        "      df_loader = pd.concat([df_loader, r])\n",
        "\n",
        "  df_loader = df_loader.set_index('id')  \n",
        "\n",
        "  # model predict\n",
        "  dataset = bertDataset(df=df_loader, tokenizer=tokenizer)\n",
        "  dataloader = DataLoader(dataset, batch_size=16, num_workers=2)\n",
        "  df_predict = predict(df_loader, model, dataloader)\n",
        "\n",
        "  # create answer\n",
        "  df_answer = reformat(df_answer, df_predict, threshold)\n",
        "  print(\"output length: {}\".format(len(df_answer))) \n",
        "\n",
        "  return df_answer"
      ],
      "metadata": {
        "id": "izskDQYxRCFO"
      },
      "execution_count": null,
      "outputs": []
    },
    {
      "cell_type": "markdown",
      "source": [
        "### main"
      ],
      "metadata": {
        "id": "wAFMEj7LhlcH"
      }
    },
    {
      "cell_type": "code",
      "source": [
        "df_path=\"/content/drive/Shareddrives/AI_CUP_NLP/Batch_answers - test_data(no_label).csv\"\n",
        "model_path=\"/content/drive/Shareddrives/AI_CUP_NLP/logs_v4/version_6/checkpoints/epoch=10-val_loss=1.731.ckpt\""
      ],
      "metadata": {
        "id": "9x8o0UgZshKJ"
      },
      "execution_count": null,
      "outputs": []
    },
    {
      "cell_type": "code",
      "source": [
        "df_answer = main(df_path, model_path, 0.25)"
      ],
      "metadata": {
        "id": "0jq9C7yGpfIW"
      },
      "execution_count": null,
      "outputs": []
    },
    {
      "cell_type": "code",
      "source": [
        "df_answer.to_csv('/content/drive/Shareddrives/AI_CUP_NLP/answer/model_v4.25.csv')"
      ],
      "metadata": {
        "id": "sfj1hDdl0muu"
      },
      "execution_count": null,
      "outputs": []
    }
  ]
}
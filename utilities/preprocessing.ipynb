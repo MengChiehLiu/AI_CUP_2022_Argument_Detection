{
  "nbformat": 4,
  "nbformat_minor": 0,
  "metadata": {
    "colab": {
      "provenance": [],
      "collapsed_sections": [
        "N8ktHvQFFamA",
        "U_su0V3fcnIZ",
        "_VuEd4Qy22GW",
        "OywshCK7mN5W",
        "1XImxqhDBY7O",
        "eNYeNBA1cZ8F",
        "6ozYOXi_OFYu",
        "Lci__zlDV7hD"
      ]
    },
    "kernelspec": {
      "name": "python3",
      "display_name": "Python 3"
    },
    "language_info": {
      "name": "python"
    },
    "widgets": {
      "application/vnd.jupyter.widget-state+json": {
        "09a2a77a83104a8dbe289952dfa74463": {
          "model_module": "@jupyter-widgets/controls",
          "model_name": "HBoxModel",
          "model_module_version": "1.5.0",
          "state": {
            "_dom_classes": [],
            "_model_module": "@jupyter-widgets/controls",
            "_model_module_version": "1.5.0",
            "_model_name": "HBoxModel",
            "_view_count": null,
            "_view_module": "@jupyter-widgets/controls",
            "_view_module_version": "1.5.0",
            "_view_name": "HBoxView",
            "box_style": "",
            "children": [
              "IPY_MODEL_7e20ff77fcd449eaa73ced6fe453cfba",
              "IPY_MODEL_527ef5e2f47e4651bf50d07473c0b7e0",
              "IPY_MODEL_500fac7c152348deb7c584c591799f10"
            ],
            "layout": "IPY_MODEL_f1ef2a23c5724b688abe09686789cc55"
          }
        },
        "7e20ff77fcd449eaa73ced6fe453cfba": {
          "model_module": "@jupyter-widgets/controls",
          "model_name": "HTMLModel",
          "model_module_version": "1.5.0",
          "state": {
            "_dom_classes": [],
            "_model_module": "@jupyter-widgets/controls",
            "_model_module_version": "1.5.0",
            "_model_name": "HTMLModel",
            "_view_count": null,
            "_view_module": "@jupyter-widgets/controls",
            "_view_module_version": "1.5.0",
            "_view_name": "HTMLView",
            "description": "",
            "description_tooltip": null,
            "layout": "IPY_MODEL_4a1e8b3889f642739125d03ab1e5f9b3",
            "placeholder": "​",
            "style": "IPY_MODEL_bbc03717d8da4c988760372b88a3770a",
            "value": "Downloading: 100%"
          }
        },
        "527ef5e2f47e4651bf50d07473c0b7e0": {
          "model_module": "@jupyter-widgets/controls",
          "model_name": "FloatProgressModel",
          "model_module_version": "1.5.0",
          "state": {
            "_dom_classes": [],
            "_model_module": "@jupyter-widgets/controls",
            "_model_module_version": "1.5.0",
            "_model_name": "FloatProgressModel",
            "_view_count": null,
            "_view_module": "@jupyter-widgets/controls",
            "_view_module_version": "1.5.0",
            "_view_name": "ProgressView",
            "bar_style": "success",
            "description": "",
            "description_tooltip": null,
            "layout": "IPY_MODEL_0f0f8fb058ba4ef09ee07ea54d17cc9f",
            "max": 231508,
            "min": 0,
            "orientation": "horizontal",
            "style": "IPY_MODEL_21ff84c5f9c44c788e6d81b1c2c3a531",
            "value": 231508
          }
        },
        "500fac7c152348deb7c584c591799f10": {
          "model_module": "@jupyter-widgets/controls",
          "model_name": "HTMLModel",
          "model_module_version": "1.5.0",
          "state": {
            "_dom_classes": [],
            "_model_module": "@jupyter-widgets/controls",
            "_model_module_version": "1.5.0",
            "_model_name": "HTMLModel",
            "_view_count": null,
            "_view_module": "@jupyter-widgets/controls",
            "_view_module_version": "1.5.0",
            "_view_name": "HTMLView",
            "description": "",
            "description_tooltip": null,
            "layout": "IPY_MODEL_df578e801d8b46e4995b57f4a8e67f49",
            "placeholder": "​",
            "style": "IPY_MODEL_4ae3f8d644874e289d70d60a3a14b37d",
            "value": " 232k/232k [00:00&lt;00:00, 8.29kB/s]"
          }
        },
        "f1ef2a23c5724b688abe09686789cc55": {
          "model_module": "@jupyter-widgets/base",
          "model_name": "LayoutModel",
          "model_module_version": "1.2.0",
          "state": {
            "_model_module": "@jupyter-widgets/base",
            "_model_module_version": "1.2.0",
            "_model_name": "LayoutModel",
            "_view_count": null,
            "_view_module": "@jupyter-widgets/base",
            "_view_module_version": "1.2.0",
            "_view_name": "LayoutView",
            "align_content": null,
            "align_items": null,
            "align_self": null,
            "border": null,
            "bottom": null,
            "display": null,
            "flex": null,
            "flex_flow": null,
            "grid_area": null,
            "grid_auto_columns": null,
            "grid_auto_flow": null,
            "grid_auto_rows": null,
            "grid_column": null,
            "grid_gap": null,
            "grid_row": null,
            "grid_template_areas": null,
            "grid_template_columns": null,
            "grid_template_rows": null,
            "height": null,
            "justify_content": null,
            "justify_items": null,
            "left": null,
            "margin": null,
            "max_height": null,
            "max_width": null,
            "min_height": null,
            "min_width": null,
            "object_fit": null,
            "object_position": null,
            "order": null,
            "overflow": null,
            "overflow_x": null,
            "overflow_y": null,
            "padding": null,
            "right": null,
            "top": null,
            "visibility": null,
            "width": null
          }
        },
        "4a1e8b3889f642739125d03ab1e5f9b3": {
          "model_module": "@jupyter-widgets/base",
          "model_name": "LayoutModel",
          "model_module_version": "1.2.0",
          "state": {
            "_model_module": "@jupyter-widgets/base",
            "_model_module_version": "1.2.0",
            "_model_name": "LayoutModel",
            "_view_count": null,
            "_view_module": "@jupyter-widgets/base",
            "_view_module_version": "1.2.0",
            "_view_name": "LayoutView",
            "align_content": null,
            "align_items": null,
            "align_self": null,
            "border": null,
            "bottom": null,
            "display": null,
            "flex": null,
            "flex_flow": null,
            "grid_area": null,
            "grid_auto_columns": null,
            "grid_auto_flow": null,
            "grid_auto_rows": null,
            "grid_column": null,
            "grid_gap": null,
            "grid_row": null,
            "grid_template_areas": null,
            "grid_template_columns": null,
            "grid_template_rows": null,
            "height": null,
            "justify_content": null,
            "justify_items": null,
            "left": null,
            "margin": null,
            "max_height": null,
            "max_width": null,
            "min_height": null,
            "min_width": null,
            "object_fit": null,
            "object_position": null,
            "order": null,
            "overflow": null,
            "overflow_x": null,
            "overflow_y": null,
            "padding": null,
            "right": null,
            "top": null,
            "visibility": null,
            "width": null
          }
        },
        "bbc03717d8da4c988760372b88a3770a": {
          "model_module": "@jupyter-widgets/controls",
          "model_name": "DescriptionStyleModel",
          "model_module_version": "1.5.0",
          "state": {
            "_model_module": "@jupyter-widgets/controls",
            "_model_module_version": "1.5.0",
            "_model_name": "DescriptionStyleModel",
            "_view_count": null,
            "_view_module": "@jupyter-widgets/base",
            "_view_module_version": "1.2.0",
            "_view_name": "StyleView",
            "description_width": ""
          }
        },
        "0f0f8fb058ba4ef09ee07ea54d17cc9f": {
          "model_module": "@jupyter-widgets/base",
          "model_name": "LayoutModel",
          "model_module_version": "1.2.0",
          "state": {
            "_model_module": "@jupyter-widgets/base",
            "_model_module_version": "1.2.0",
            "_model_name": "LayoutModel",
            "_view_count": null,
            "_view_module": "@jupyter-widgets/base",
            "_view_module_version": "1.2.0",
            "_view_name": "LayoutView",
            "align_content": null,
            "align_items": null,
            "align_self": null,
            "border": null,
            "bottom": null,
            "display": null,
            "flex": null,
            "flex_flow": null,
            "grid_area": null,
            "grid_auto_columns": null,
            "grid_auto_flow": null,
            "grid_auto_rows": null,
            "grid_column": null,
            "grid_gap": null,
            "grid_row": null,
            "grid_template_areas": null,
            "grid_template_columns": null,
            "grid_template_rows": null,
            "height": null,
            "justify_content": null,
            "justify_items": null,
            "left": null,
            "margin": null,
            "max_height": null,
            "max_width": null,
            "min_height": null,
            "min_width": null,
            "object_fit": null,
            "object_position": null,
            "order": null,
            "overflow": null,
            "overflow_x": null,
            "overflow_y": null,
            "padding": null,
            "right": null,
            "top": null,
            "visibility": null,
            "width": null
          }
        },
        "21ff84c5f9c44c788e6d81b1c2c3a531": {
          "model_module": "@jupyter-widgets/controls",
          "model_name": "ProgressStyleModel",
          "model_module_version": "1.5.0",
          "state": {
            "_model_module": "@jupyter-widgets/controls",
            "_model_module_version": "1.5.0",
            "_model_name": "ProgressStyleModel",
            "_view_count": null,
            "_view_module": "@jupyter-widgets/base",
            "_view_module_version": "1.2.0",
            "_view_name": "StyleView",
            "bar_color": null,
            "description_width": ""
          }
        },
        "df578e801d8b46e4995b57f4a8e67f49": {
          "model_module": "@jupyter-widgets/base",
          "model_name": "LayoutModel",
          "model_module_version": "1.2.0",
          "state": {
            "_model_module": "@jupyter-widgets/base",
            "_model_module_version": "1.2.0",
            "_model_name": "LayoutModel",
            "_view_count": null,
            "_view_module": "@jupyter-widgets/base",
            "_view_module_version": "1.2.0",
            "_view_name": "LayoutView",
            "align_content": null,
            "align_items": null,
            "align_self": null,
            "border": null,
            "bottom": null,
            "display": null,
            "flex": null,
            "flex_flow": null,
            "grid_area": null,
            "grid_auto_columns": null,
            "grid_auto_flow": null,
            "grid_auto_rows": null,
            "grid_column": null,
            "grid_gap": null,
            "grid_row": null,
            "grid_template_areas": null,
            "grid_template_columns": null,
            "grid_template_rows": null,
            "height": null,
            "justify_content": null,
            "justify_items": null,
            "left": null,
            "margin": null,
            "max_height": null,
            "max_width": null,
            "min_height": null,
            "min_width": null,
            "object_fit": null,
            "object_position": null,
            "order": null,
            "overflow": null,
            "overflow_x": null,
            "overflow_y": null,
            "padding": null,
            "right": null,
            "top": null,
            "visibility": null,
            "width": null
          }
        },
        "4ae3f8d644874e289d70d60a3a14b37d": {
          "model_module": "@jupyter-widgets/controls",
          "model_name": "DescriptionStyleModel",
          "model_module_version": "1.5.0",
          "state": {
            "_model_module": "@jupyter-widgets/controls",
            "_model_module_version": "1.5.0",
            "_model_name": "DescriptionStyleModel",
            "_view_count": null,
            "_view_module": "@jupyter-widgets/base",
            "_view_module_version": "1.2.0",
            "_view_name": "StyleView",
            "description_width": ""
          }
        },
        "a868cc80edb9475a85a729773b556366": {
          "model_module": "@jupyter-widgets/controls",
          "model_name": "HBoxModel",
          "model_module_version": "1.5.0",
          "state": {
            "_dom_classes": [],
            "_model_module": "@jupyter-widgets/controls",
            "_model_module_version": "1.5.0",
            "_model_name": "HBoxModel",
            "_view_count": null,
            "_view_module": "@jupyter-widgets/controls",
            "_view_module_version": "1.5.0",
            "_view_name": "HBoxView",
            "box_style": "",
            "children": [
              "IPY_MODEL_cb9be2160f9840a7a83015c5173abc42",
              "IPY_MODEL_155e613d882844068c96c19a06e390ce",
              "IPY_MODEL_d29a9fd16e984c6aa1d8286d0c069dc0"
            ],
            "layout": "IPY_MODEL_0bb8e5cb4a174deca75373f78396df37"
          }
        },
        "cb9be2160f9840a7a83015c5173abc42": {
          "model_module": "@jupyter-widgets/controls",
          "model_name": "HTMLModel",
          "model_module_version": "1.5.0",
          "state": {
            "_dom_classes": [],
            "_model_module": "@jupyter-widgets/controls",
            "_model_module_version": "1.5.0",
            "_model_name": "HTMLModel",
            "_view_count": null,
            "_view_module": "@jupyter-widgets/controls",
            "_view_module_version": "1.5.0",
            "_view_name": "HTMLView",
            "description": "",
            "description_tooltip": null,
            "layout": "IPY_MODEL_d7bdf6bc7c38489b8983fad84232c766",
            "placeholder": "​",
            "style": "IPY_MODEL_677f07401a384dc0acc0354fb9303f49",
            "value": "Downloading: 100%"
          }
        },
        "155e613d882844068c96c19a06e390ce": {
          "model_module": "@jupyter-widgets/controls",
          "model_name": "FloatProgressModel",
          "model_module_version": "1.5.0",
          "state": {
            "_dom_classes": [],
            "_model_module": "@jupyter-widgets/controls",
            "_model_module_version": "1.5.0",
            "_model_name": "FloatProgressModel",
            "_view_count": null,
            "_view_module": "@jupyter-widgets/controls",
            "_view_module_version": "1.5.0",
            "_view_name": "ProgressView",
            "bar_style": "success",
            "description": "",
            "description_tooltip": null,
            "layout": "IPY_MODEL_f5af999134554e5b9dc789d4ba6066d3",
            "max": 28,
            "min": 0,
            "orientation": "horizontal",
            "style": "IPY_MODEL_69177e99cc75411182813859f09f36c4",
            "value": 28
          }
        },
        "d29a9fd16e984c6aa1d8286d0c069dc0": {
          "model_module": "@jupyter-widgets/controls",
          "model_name": "HTMLModel",
          "model_module_version": "1.5.0",
          "state": {
            "_dom_classes": [],
            "_model_module": "@jupyter-widgets/controls",
            "_model_module_version": "1.5.0",
            "_model_name": "HTMLModel",
            "_view_count": null,
            "_view_module": "@jupyter-widgets/controls",
            "_view_module_version": "1.5.0",
            "_view_name": "HTMLView",
            "description": "",
            "description_tooltip": null,
            "layout": "IPY_MODEL_2630616933364c1987c9b60253531e76",
            "placeholder": "​",
            "style": "IPY_MODEL_f9cd2129e8184cc2af00f5f0294b4567",
            "value": " 28.0/28.0 [00:00&lt;00:00, 259B/s]"
          }
        },
        "0bb8e5cb4a174deca75373f78396df37": {
          "model_module": "@jupyter-widgets/base",
          "model_name": "LayoutModel",
          "model_module_version": "1.2.0",
          "state": {
            "_model_module": "@jupyter-widgets/base",
            "_model_module_version": "1.2.0",
            "_model_name": "LayoutModel",
            "_view_count": null,
            "_view_module": "@jupyter-widgets/base",
            "_view_module_version": "1.2.0",
            "_view_name": "LayoutView",
            "align_content": null,
            "align_items": null,
            "align_self": null,
            "border": null,
            "bottom": null,
            "display": null,
            "flex": null,
            "flex_flow": null,
            "grid_area": null,
            "grid_auto_columns": null,
            "grid_auto_flow": null,
            "grid_auto_rows": null,
            "grid_column": null,
            "grid_gap": null,
            "grid_row": null,
            "grid_template_areas": null,
            "grid_template_columns": null,
            "grid_template_rows": null,
            "height": null,
            "justify_content": null,
            "justify_items": null,
            "left": null,
            "margin": null,
            "max_height": null,
            "max_width": null,
            "min_height": null,
            "min_width": null,
            "object_fit": null,
            "object_position": null,
            "order": null,
            "overflow": null,
            "overflow_x": null,
            "overflow_y": null,
            "padding": null,
            "right": null,
            "top": null,
            "visibility": null,
            "width": null
          }
        },
        "d7bdf6bc7c38489b8983fad84232c766": {
          "model_module": "@jupyter-widgets/base",
          "model_name": "LayoutModel",
          "model_module_version": "1.2.0",
          "state": {
            "_model_module": "@jupyter-widgets/base",
            "_model_module_version": "1.2.0",
            "_model_name": "LayoutModel",
            "_view_count": null,
            "_view_module": "@jupyter-widgets/base",
            "_view_module_version": "1.2.0",
            "_view_name": "LayoutView",
            "align_content": null,
            "align_items": null,
            "align_self": null,
            "border": null,
            "bottom": null,
            "display": null,
            "flex": null,
            "flex_flow": null,
            "grid_area": null,
            "grid_auto_columns": null,
            "grid_auto_flow": null,
            "grid_auto_rows": null,
            "grid_column": null,
            "grid_gap": null,
            "grid_row": null,
            "grid_template_areas": null,
            "grid_template_columns": null,
            "grid_template_rows": null,
            "height": null,
            "justify_content": null,
            "justify_items": null,
            "left": null,
            "margin": null,
            "max_height": null,
            "max_width": null,
            "min_height": null,
            "min_width": null,
            "object_fit": null,
            "object_position": null,
            "order": null,
            "overflow": null,
            "overflow_x": null,
            "overflow_y": null,
            "padding": null,
            "right": null,
            "top": null,
            "visibility": null,
            "width": null
          }
        },
        "677f07401a384dc0acc0354fb9303f49": {
          "model_module": "@jupyter-widgets/controls",
          "model_name": "DescriptionStyleModel",
          "model_module_version": "1.5.0",
          "state": {
            "_model_module": "@jupyter-widgets/controls",
            "_model_module_version": "1.5.0",
            "_model_name": "DescriptionStyleModel",
            "_view_count": null,
            "_view_module": "@jupyter-widgets/base",
            "_view_module_version": "1.2.0",
            "_view_name": "StyleView",
            "description_width": ""
          }
        },
        "f5af999134554e5b9dc789d4ba6066d3": {
          "model_module": "@jupyter-widgets/base",
          "model_name": "LayoutModel",
          "model_module_version": "1.2.0",
          "state": {
            "_model_module": "@jupyter-widgets/base",
            "_model_module_version": "1.2.0",
            "_model_name": "LayoutModel",
            "_view_count": null,
            "_view_module": "@jupyter-widgets/base",
            "_view_module_version": "1.2.0",
            "_view_name": "LayoutView",
            "align_content": null,
            "align_items": null,
            "align_self": null,
            "border": null,
            "bottom": null,
            "display": null,
            "flex": null,
            "flex_flow": null,
            "grid_area": null,
            "grid_auto_columns": null,
            "grid_auto_flow": null,
            "grid_auto_rows": null,
            "grid_column": null,
            "grid_gap": null,
            "grid_row": null,
            "grid_template_areas": null,
            "grid_template_columns": null,
            "grid_template_rows": null,
            "height": null,
            "justify_content": null,
            "justify_items": null,
            "left": null,
            "margin": null,
            "max_height": null,
            "max_width": null,
            "min_height": null,
            "min_width": null,
            "object_fit": null,
            "object_position": null,
            "order": null,
            "overflow": null,
            "overflow_x": null,
            "overflow_y": null,
            "padding": null,
            "right": null,
            "top": null,
            "visibility": null,
            "width": null
          }
        },
        "69177e99cc75411182813859f09f36c4": {
          "model_module": "@jupyter-widgets/controls",
          "model_name": "ProgressStyleModel",
          "model_module_version": "1.5.0",
          "state": {
            "_model_module": "@jupyter-widgets/controls",
            "_model_module_version": "1.5.0",
            "_model_name": "ProgressStyleModel",
            "_view_count": null,
            "_view_module": "@jupyter-widgets/base",
            "_view_module_version": "1.2.0",
            "_view_name": "StyleView",
            "bar_color": null,
            "description_width": ""
          }
        },
        "2630616933364c1987c9b60253531e76": {
          "model_module": "@jupyter-widgets/base",
          "model_name": "LayoutModel",
          "model_module_version": "1.2.0",
          "state": {
            "_model_module": "@jupyter-widgets/base",
            "_model_module_version": "1.2.0",
            "_model_name": "LayoutModel",
            "_view_count": null,
            "_view_module": "@jupyter-widgets/base",
            "_view_module_version": "1.2.0",
            "_view_name": "LayoutView",
            "align_content": null,
            "align_items": null,
            "align_self": null,
            "border": null,
            "bottom": null,
            "display": null,
            "flex": null,
            "flex_flow": null,
            "grid_area": null,
            "grid_auto_columns": null,
            "grid_auto_flow": null,
            "grid_auto_rows": null,
            "grid_column": null,
            "grid_gap": null,
            "grid_row": null,
            "grid_template_areas": null,
            "grid_template_columns": null,
            "grid_template_rows": null,
            "height": null,
            "justify_content": null,
            "justify_items": null,
            "left": null,
            "margin": null,
            "max_height": null,
            "max_width": null,
            "min_height": null,
            "min_width": null,
            "object_fit": null,
            "object_position": null,
            "order": null,
            "overflow": null,
            "overflow_x": null,
            "overflow_y": null,
            "padding": null,
            "right": null,
            "top": null,
            "visibility": null,
            "width": null
          }
        },
        "f9cd2129e8184cc2af00f5f0294b4567": {
          "model_module": "@jupyter-widgets/controls",
          "model_name": "DescriptionStyleModel",
          "model_module_version": "1.5.0",
          "state": {
            "_model_module": "@jupyter-widgets/controls",
            "_model_module_version": "1.5.0",
            "_model_name": "DescriptionStyleModel",
            "_view_count": null,
            "_view_module": "@jupyter-widgets/base",
            "_view_module_version": "1.2.0",
            "_view_name": "StyleView",
            "description_width": ""
          }
        },
        "fa5db75f6da24900ad77ff6fb27e4df6": {
          "model_module": "@jupyter-widgets/controls",
          "model_name": "HBoxModel",
          "model_module_version": "1.5.0",
          "state": {
            "_dom_classes": [],
            "_model_module": "@jupyter-widgets/controls",
            "_model_module_version": "1.5.0",
            "_model_name": "HBoxModel",
            "_view_count": null,
            "_view_module": "@jupyter-widgets/controls",
            "_view_module_version": "1.5.0",
            "_view_name": "HBoxView",
            "box_style": "",
            "children": [
              "IPY_MODEL_1f78a3b6936a419791d5eaeeb0c059ca",
              "IPY_MODEL_e139918f4fc74b08a844169f0cf018ca",
              "IPY_MODEL_6af0c475729a43bfa146c25ab0b1dafd"
            ],
            "layout": "IPY_MODEL_d7194c2666a546dda86e61031e95f50a"
          }
        },
        "1f78a3b6936a419791d5eaeeb0c059ca": {
          "model_module": "@jupyter-widgets/controls",
          "model_name": "HTMLModel",
          "model_module_version": "1.5.0",
          "state": {
            "_dom_classes": [],
            "_model_module": "@jupyter-widgets/controls",
            "_model_module_version": "1.5.0",
            "_model_name": "HTMLModel",
            "_view_count": null,
            "_view_module": "@jupyter-widgets/controls",
            "_view_module_version": "1.5.0",
            "_view_name": "HTMLView",
            "description": "",
            "description_tooltip": null,
            "layout": "IPY_MODEL_5262756676ef4d52b3e36616882ef286",
            "placeholder": "​",
            "style": "IPY_MODEL_7eb3befb342a4604a51f6ae304e07470",
            "value": "Downloading: 100%"
          }
        },
        "e139918f4fc74b08a844169f0cf018ca": {
          "model_module": "@jupyter-widgets/controls",
          "model_name": "FloatProgressModel",
          "model_module_version": "1.5.0",
          "state": {
            "_dom_classes": [],
            "_model_module": "@jupyter-widgets/controls",
            "_model_module_version": "1.5.0",
            "_model_name": "FloatProgressModel",
            "_view_count": null,
            "_view_module": "@jupyter-widgets/controls",
            "_view_module_version": "1.5.0",
            "_view_name": "ProgressView",
            "bar_style": "success",
            "description": "",
            "description_tooltip": null,
            "layout": "IPY_MODEL_3bcebabd8d03434aaa9188ea470bc217",
            "max": 570,
            "min": 0,
            "orientation": "horizontal",
            "style": "IPY_MODEL_66bfff4008f54724ae8ae051bf204cb6",
            "value": 570
          }
        },
        "6af0c475729a43bfa146c25ab0b1dafd": {
          "model_module": "@jupyter-widgets/controls",
          "model_name": "HTMLModel",
          "model_module_version": "1.5.0",
          "state": {
            "_dom_classes": [],
            "_model_module": "@jupyter-widgets/controls",
            "_model_module_version": "1.5.0",
            "_model_name": "HTMLModel",
            "_view_count": null,
            "_view_module": "@jupyter-widgets/controls",
            "_view_module_version": "1.5.0",
            "_view_name": "HTMLView",
            "description": "",
            "description_tooltip": null,
            "layout": "IPY_MODEL_37e43e795a3d4a8e88b3441e66529906",
            "placeholder": "​",
            "style": "IPY_MODEL_ac1d820d4048450d9e92e292d5a7fb5c",
            "value": " 570/570 [00:00&lt;00:00, 5.29kB/s]"
          }
        },
        "d7194c2666a546dda86e61031e95f50a": {
          "model_module": "@jupyter-widgets/base",
          "model_name": "LayoutModel",
          "model_module_version": "1.2.0",
          "state": {
            "_model_module": "@jupyter-widgets/base",
            "_model_module_version": "1.2.0",
            "_model_name": "LayoutModel",
            "_view_count": null,
            "_view_module": "@jupyter-widgets/base",
            "_view_module_version": "1.2.0",
            "_view_name": "LayoutView",
            "align_content": null,
            "align_items": null,
            "align_self": null,
            "border": null,
            "bottom": null,
            "display": null,
            "flex": null,
            "flex_flow": null,
            "grid_area": null,
            "grid_auto_columns": null,
            "grid_auto_flow": null,
            "grid_auto_rows": null,
            "grid_column": null,
            "grid_gap": null,
            "grid_row": null,
            "grid_template_areas": null,
            "grid_template_columns": null,
            "grid_template_rows": null,
            "height": null,
            "justify_content": null,
            "justify_items": null,
            "left": null,
            "margin": null,
            "max_height": null,
            "max_width": null,
            "min_height": null,
            "min_width": null,
            "object_fit": null,
            "object_position": null,
            "order": null,
            "overflow": null,
            "overflow_x": null,
            "overflow_y": null,
            "padding": null,
            "right": null,
            "top": null,
            "visibility": null,
            "width": null
          }
        },
        "5262756676ef4d52b3e36616882ef286": {
          "model_module": "@jupyter-widgets/base",
          "model_name": "LayoutModel",
          "model_module_version": "1.2.0",
          "state": {
            "_model_module": "@jupyter-widgets/base",
            "_model_module_version": "1.2.0",
            "_model_name": "LayoutModel",
            "_view_count": null,
            "_view_module": "@jupyter-widgets/base",
            "_view_module_version": "1.2.0",
            "_view_name": "LayoutView",
            "align_content": null,
            "align_items": null,
            "align_self": null,
            "border": null,
            "bottom": null,
            "display": null,
            "flex": null,
            "flex_flow": null,
            "grid_area": null,
            "grid_auto_columns": null,
            "grid_auto_flow": null,
            "grid_auto_rows": null,
            "grid_column": null,
            "grid_gap": null,
            "grid_row": null,
            "grid_template_areas": null,
            "grid_template_columns": null,
            "grid_template_rows": null,
            "height": null,
            "justify_content": null,
            "justify_items": null,
            "left": null,
            "margin": null,
            "max_height": null,
            "max_width": null,
            "min_height": null,
            "min_width": null,
            "object_fit": null,
            "object_position": null,
            "order": null,
            "overflow": null,
            "overflow_x": null,
            "overflow_y": null,
            "padding": null,
            "right": null,
            "top": null,
            "visibility": null,
            "width": null
          }
        },
        "7eb3befb342a4604a51f6ae304e07470": {
          "model_module": "@jupyter-widgets/controls",
          "model_name": "DescriptionStyleModel",
          "model_module_version": "1.5.0",
          "state": {
            "_model_module": "@jupyter-widgets/controls",
            "_model_module_version": "1.5.0",
            "_model_name": "DescriptionStyleModel",
            "_view_count": null,
            "_view_module": "@jupyter-widgets/base",
            "_view_module_version": "1.2.0",
            "_view_name": "StyleView",
            "description_width": ""
          }
        },
        "3bcebabd8d03434aaa9188ea470bc217": {
          "model_module": "@jupyter-widgets/base",
          "model_name": "LayoutModel",
          "model_module_version": "1.2.0",
          "state": {
            "_model_module": "@jupyter-widgets/base",
            "_model_module_version": "1.2.0",
            "_model_name": "LayoutModel",
            "_view_count": null,
            "_view_module": "@jupyter-widgets/base",
            "_view_module_version": "1.2.0",
            "_view_name": "LayoutView",
            "align_content": null,
            "align_items": null,
            "align_self": null,
            "border": null,
            "bottom": null,
            "display": null,
            "flex": null,
            "flex_flow": null,
            "grid_area": null,
            "grid_auto_columns": null,
            "grid_auto_flow": null,
            "grid_auto_rows": null,
            "grid_column": null,
            "grid_gap": null,
            "grid_row": null,
            "grid_template_areas": null,
            "grid_template_columns": null,
            "grid_template_rows": null,
            "height": null,
            "justify_content": null,
            "justify_items": null,
            "left": null,
            "margin": null,
            "max_height": null,
            "max_width": null,
            "min_height": null,
            "min_width": null,
            "object_fit": null,
            "object_position": null,
            "order": null,
            "overflow": null,
            "overflow_x": null,
            "overflow_y": null,
            "padding": null,
            "right": null,
            "top": null,
            "visibility": null,
            "width": null
          }
        },
        "66bfff4008f54724ae8ae051bf204cb6": {
          "model_module": "@jupyter-widgets/controls",
          "model_name": "ProgressStyleModel",
          "model_module_version": "1.5.0",
          "state": {
            "_model_module": "@jupyter-widgets/controls",
            "_model_module_version": "1.5.0",
            "_model_name": "ProgressStyleModel",
            "_view_count": null,
            "_view_module": "@jupyter-widgets/base",
            "_view_module_version": "1.2.0",
            "_view_name": "StyleView",
            "bar_color": null,
            "description_width": ""
          }
        },
        "37e43e795a3d4a8e88b3441e66529906": {
          "model_module": "@jupyter-widgets/base",
          "model_name": "LayoutModel",
          "model_module_version": "1.2.0",
          "state": {
            "_model_module": "@jupyter-widgets/base",
            "_model_module_version": "1.2.0",
            "_model_name": "LayoutModel",
            "_view_count": null,
            "_view_module": "@jupyter-widgets/base",
            "_view_module_version": "1.2.0",
            "_view_name": "LayoutView",
            "align_content": null,
            "align_items": null,
            "align_self": null,
            "border": null,
            "bottom": null,
            "display": null,
            "flex": null,
            "flex_flow": null,
            "grid_area": null,
            "grid_auto_columns": null,
            "grid_auto_flow": null,
            "grid_auto_rows": null,
            "grid_column": null,
            "grid_gap": null,
            "grid_row": null,
            "grid_template_areas": null,
            "grid_template_columns": null,
            "grid_template_rows": null,
            "height": null,
            "justify_content": null,
            "justify_items": null,
            "left": null,
            "margin": null,
            "max_height": null,
            "max_width": null,
            "min_height": null,
            "min_width": null,
            "object_fit": null,
            "object_position": null,
            "order": null,
            "overflow": null,
            "overflow_x": null,
            "overflow_y": null,
            "padding": null,
            "right": null,
            "top": null,
            "visibility": null,
            "width": null
          }
        },
        "ac1d820d4048450d9e92e292d5a7fb5c": {
          "model_module": "@jupyter-widgets/controls",
          "model_name": "DescriptionStyleModel",
          "model_module_version": "1.5.0",
          "state": {
            "_model_module": "@jupyter-widgets/controls",
            "_model_module_version": "1.5.0",
            "_model_name": "DescriptionStyleModel",
            "_view_count": null,
            "_view_module": "@jupyter-widgets/base",
            "_view_module_version": "1.2.0",
            "_view_name": "StyleView",
            "description_width": ""
          }
        },
        "0dd2ab41ffd44f4586f80a37a1a3e526": {
          "model_module": "@jupyter-widgets/controls",
          "model_name": "HBoxModel",
          "model_module_version": "1.5.0",
          "state": {
            "_dom_classes": [],
            "_model_module": "@jupyter-widgets/controls",
            "_model_module_version": "1.5.0",
            "_model_name": "HBoxModel",
            "_view_count": null,
            "_view_module": "@jupyter-widgets/controls",
            "_view_module_version": "1.5.0",
            "_view_name": "HBoxView",
            "box_style": "",
            "children": [
              "IPY_MODEL_121f3a0821164eb3b55562f4fee5ec35",
              "IPY_MODEL_890295763a114ed58ba84a5e378ecb57",
              "IPY_MODEL_1292755faf9a40cbb562fcb0d12bc3bd"
            ],
            "layout": "IPY_MODEL_b314f3fcaeb44822aeffa9c25f6b4f36"
          }
        },
        "121f3a0821164eb3b55562f4fee5ec35": {
          "model_module": "@jupyter-widgets/controls",
          "model_name": "HTMLModel",
          "model_module_version": "1.5.0",
          "state": {
            "_dom_classes": [],
            "_model_module": "@jupyter-widgets/controls",
            "_model_module_version": "1.5.0",
            "_model_name": "HTMLModel",
            "_view_count": null,
            "_view_module": "@jupyter-widgets/controls",
            "_view_module_version": "1.5.0",
            "_view_name": "HTMLView",
            "description": "",
            "description_tooltip": null,
            "layout": "IPY_MODEL_6e4ad0f764734f1fbeda64f8ae2f8cda",
            "placeholder": "​",
            "style": "IPY_MODEL_70514b800bab493da0ac979545326e3d",
            "value": "Downloading: 100%"
          }
        },
        "890295763a114ed58ba84a5e378ecb57": {
          "model_module": "@jupyter-widgets/controls",
          "model_name": "FloatProgressModel",
          "model_module_version": "1.5.0",
          "state": {
            "_dom_classes": [],
            "_model_module": "@jupyter-widgets/controls",
            "_model_module_version": "1.5.0",
            "_model_name": "FloatProgressModel",
            "_view_count": null,
            "_view_module": "@jupyter-widgets/controls",
            "_view_module_version": "1.5.0",
            "_view_name": "ProgressView",
            "bar_style": "success",
            "description": "",
            "description_tooltip": null,
            "layout": "IPY_MODEL_afce4ef167324bb798b0a5617b8b1b87",
            "max": 231508,
            "min": 0,
            "orientation": "horizontal",
            "style": "IPY_MODEL_a082abf2b19e4f8695a4d10033eb101b",
            "value": 231508
          }
        },
        "1292755faf9a40cbb562fcb0d12bc3bd": {
          "model_module": "@jupyter-widgets/controls",
          "model_name": "HTMLModel",
          "model_module_version": "1.5.0",
          "state": {
            "_dom_classes": [],
            "_model_module": "@jupyter-widgets/controls",
            "_model_module_version": "1.5.0",
            "_model_name": "HTMLModel",
            "_view_count": null,
            "_view_module": "@jupyter-widgets/controls",
            "_view_module_version": "1.5.0",
            "_view_name": "HTMLView",
            "description": "",
            "description_tooltip": null,
            "layout": "IPY_MODEL_2c43b71ca1f24c28961dcdb6a22b863c",
            "placeholder": "​",
            "style": "IPY_MODEL_1ccd43998b564d10b1250e6f4609ff1f",
            "value": " 232k/232k [00:00&lt;00:00, 590kB/s]"
          }
        },
        "b314f3fcaeb44822aeffa9c25f6b4f36": {
          "model_module": "@jupyter-widgets/base",
          "model_name": "LayoutModel",
          "model_module_version": "1.2.0",
          "state": {
            "_model_module": "@jupyter-widgets/base",
            "_model_module_version": "1.2.0",
            "_model_name": "LayoutModel",
            "_view_count": null,
            "_view_module": "@jupyter-widgets/base",
            "_view_module_version": "1.2.0",
            "_view_name": "LayoutView",
            "align_content": null,
            "align_items": null,
            "align_self": null,
            "border": null,
            "bottom": null,
            "display": null,
            "flex": null,
            "flex_flow": null,
            "grid_area": null,
            "grid_auto_columns": null,
            "grid_auto_flow": null,
            "grid_auto_rows": null,
            "grid_column": null,
            "grid_gap": null,
            "grid_row": null,
            "grid_template_areas": null,
            "grid_template_columns": null,
            "grid_template_rows": null,
            "height": null,
            "justify_content": null,
            "justify_items": null,
            "left": null,
            "margin": null,
            "max_height": null,
            "max_width": null,
            "min_height": null,
            "min_width": null,
            "object_fit": null,
            "object_position": null,
            "order": null,
            "overflow": null,
            "overflow_x": null,
            "overflow_y": null,
            "padding": null,
            "right": null,
            "top": null,
            "visibility": null,
            "width": null
          }
        },
        "6e4ad0f764734f1fbeda64f8ae2f8cda": {
          "model_module": "@jupyter-widgets/base",
          "model_name": "LayoutModel",
          "model_module_version": "1.2.0",
          "state": {
            "_model_module": "@jupyter-widgets/base",
            "_model_module_version": "1.2.0",
            "_model_name": "LayoutModel",
            "_view_count": null,
            "_view_module": "@jupyter-widgets/base",
            "_view_module_version": "1.2.0",
            "_view_name": "LayoutView",
            "align_content": null,
            "align_items": null,
            "align_self": null,
            "border": null,
            "bottom": null,
            "display": null,
            "flex": null,
            "flex_flow": null,
            "grid_area": null,
            "grid_auto_columns": null,
            "grid_auto_flow": null,
            "grid_auto_rows": null,
            "grid_column": null,
            "grid_gap": null,
            "grid_row": null,
            "grid_template_areas": null,
            "grid_template_columns": null,
            "grid_template_rows": null,
            "height": null,
            "justify_content": null,
            "justify_items": null,
            "left": null,
            "margin": null,
            "max_height": null,
            "max_width": null,
            "min_height": null,
            "min_width": null,
            "object_fit": null,
            "object_position": null,
            "order": null,
            "overflow": null,
            "overflow_x": null,
            "overflow_y": null,
            "padding": null,
            "right": null,
            "top": null,
            "visibility": null,
            "width": null
          }
        },
        "70514b800bab493da0ac979545326e3d": {
          "model_module": "@jupyter-widgets/controls",
          "model_name": "DescriptionStyleModel",
          "model_module_version": "1.5.0",
          "state": {
            "_model_module": "@jupyter-widgets/controls",
            "_model_module_version": "1.5.0",
            "_model_name": "DescriptionStyleModel",
            "_view_count": null,
            "_view_module": "@jupyter-widgets/base",
            "_view_module_version": "1.2.0",
            "_view_name": "StyleView",
            "description_width": ""
          }
        },
        "afce4ef167324bb798b0a5617b8b1b87": {
          "model_module": "@jupyter-widgets/base",
          "model_name": "LayoutModel",
          "model_module_version": "1.2.0",
          "state": {
            "_model_module": "@jupyter-widgets/base",
            "_model_module_version": "1.2.0",
            "_model_name": "LayoutModel",
            "_view_count": null,
            "_view_module": "@jupyter-widgets/base",
            "_view_module_version": "1.2.0",
            "_view_name": "LayoutView",
            "align_content": null,
            "align_items": null,
            "align_self": null,
            "border": null,
            "bottom": null,
            "display": null,
            "flex": null,
            "flex_flow": null,
            "grid_area": null,
            "grid_auto_columns": null,
            "grid_auto_flow": null,
            "grid_auto_rows": null,
            "grid_column": null,
            "grid_gap": null,
            "grid_row": null,
            "grid_template_areas": null,
            "grid_template_columns": null,
            "grid_template_rows": null,
            "height": null,
            "justify_content": null,
            "justify_items": null,
            "left": null,
            "margin": null,
            "max_height": null,
            "max_width": null,
            "min_height": null,
            "min_width": null,
            "object_fit": null,
            "object_position": null,
            "order": null,
            "overflow": null,
            "overflow_x": null,
            "overflow_y": null,
            "padding": null,
            "right": null,
            "top": null,
            "visibility": null,
            "width": null
          }
        },
        "a082abf2b19e4f8695a4d10033eb101b": {
          "model_module": "@jupyter-widgets/controls",
          "model_name": "ProgressStyleModel",
          "model_module_version": "1.5.0",
          "state": {
            "_model_module": "@jupyter-widgets/controls",
            "_model_module_version": "1.5.0",
            "_model_name": "ProgressStyleModel",
            "_view_count": null,
            "_view_module": "@jupyter-widgets/base",
            "_view_module_version": "1.2.0",
            "_view_name": "StyleView",
            "bar_color": null,
            "description_width": ""
          }
        },
        "2c43b71ca1f24c28961dcdb6a22b863c": {
          "model_module": "@jupyter-widgets/base",
          "model_name": "LayoutModel",
          "model_module_version": "1.2.0",
          "state": {
            "_model_module": "@jupyter-widgets/base",
            "_model_module_version": "1.2.0",
            "_model_name": "LayoutModel",
            "_view_count": null,
            "_view_module": "@jupyter-widgets/base",
            "_view_module_version": "1.2.0",
            "_view_name": "LayoutView",
            "align_content": null,
            "align_items": null,
            "align_self": null,
            "border": null,
            "bottom": null,
            "display": null,
            "flex": null,
            "flex_flow": null,
            "grid_area": null,
            "grid_auto_columns": null,
            "grid_auto_flow": null,
            "grid_auto_rows": null,
            "grid_column": null,
            "grid_gap": null,
            "grid_row": null,
            "grid_template_areas": null,
            "grid_template_columns": null,
            "grid_template_rows": null,
            "height": null,
            "justify_content": null,
            "justify_items": null,
            "left": null,
            "margin": null,
            "max_height": null,
            "max_width": null,
            "min_height": null,
            "min_width": null,
            "object_fit": null,
            "object_position": null,
            "order": null,
            "overflow": null,
            "overflow_x": null,
            "overflow_y": null,
            "padding": null,
            "right": null,
            "top": null,
            "visibility": null,
            "width": null
          }
        },
        "1ccd43998b564d10b1250e6f4609ff1f": {
          "model_module": "@jupyter-widgets/controls",
          "model_name": "DescriptionStyleModel",
          "model_module_version": "1.5.0",
          "state": {
            "_model_module": "@jupyter-widgets/controls",
            "_model_module_version": "1.5.0",
            "_model_name": "DescriptionStyleModel",
            "_view_count": null,
            "_view_module": "@jupyter-widgets/base",
            "_view_module_version": "1.2.0",
            "_view_name": "StyleView",
            "description_width": ""
          }
        },
        "9c29029de26f46dabc428d7a706abce5": {
          "model_module": "@jupyter-widgets/controls",
          "model_name": "HBoxModel",
          "model_module_version": "1.5.0",
          "state": {
            "_dom_classes": [],
            "_model_module": "@jupyter-widgets/controls",
            "_model_module_version": "1.5.0",
            "_model_name": "HBoxModel",
            "_view_count": null,
            "_view_module": "@jupyter-widgets/controls",
            "_view_module_version": "1.5.0",
            "_view_name": "HBoxView",
            "box_style": "",
            "children": [
              "IPY_MODEL_eb1649ae162a46b5bef1175a2173b07c",
              "IPY_MODEL_e0a76dffd36a4b4697486ab7aba29913",
              "IPY_MODEL_1d38a48a9a86467c853827a92c68fa4d"
            ],
            "layout": "IPY_MODEL_a475a1b8932b419b956f63e7e5980ab7"
          }
        },
        "eb1649ae162a46b5bef1175a2173b07c": {
          "model_module": "@jupyter-widgets/controls",
          "model_name": "HTMLModel",
          "model_module_version": "1.5.0",
          "state": {
            "_dom_classes": [],
            "_model_module": "@jupyter-widgets/controls",
            "_model_module_version": "1.5.0",
            "_model_name": "HTMLModel",
            "_view_count": null,
            "_view_module": "@jupyter-widgets/controls",
            "_view_module_version": "1.5.0",
            "_view_name": "HTMLView",
            "description": "",
            "description_tooltip": null,
            "layout": "IPY_MODEL_9db0b6f02742471b8d3ee8a4a01fdfc1",
            "placeholder": "​",
            "style": "IPY_MODEL_3ab788abc3134df1b2b2337d303fd62e",
            "value": "Downloading: 100%"
          }
        },
        "e0a76dffd36a4b4697486ab7aba29913": {
          "model_module": "@jupyter-widgets/controls",
          "model_name": "FloatProgressModel",
          "model_module_version": "1.5.0",
          "state": {
            "_dom_classes": [],
            "_model_module": "@jupyter-widgets/controls",
            "_model_module_version": "1.5.0",
            "_model_name": "FloatProgressModel",
            "_view_count": null,
            "_view_module": "@jupyter-widgets/controls",
            "_view_module_version": "1.5.0",
            "_view_name": "ProgressView",
            "bar_style": "success",
            "description": "",
            "description_tooltip": null,
            "layout": "IPY_MODEL_e0d0b4867ad84ef1823af68e5f57c447",
            "max": 28,
            "min": 0,
            "orientation": "horizontal",
            "style": "IPY_MODEL_2922a3268f8440008097f42c80e04382",
            "value": 28
          }
        },
        "1d38a48a9a86467c853827a92c68fa4d": {
          "model_module": "@jupyter-widgets/controls",
          "model_name": "HTMLModel",
          "model_module_version": "1.5.0",
          "state": {
            "_dom_classes": [],
            "_model_module": "@jupyter-widgets/controls",
            "_model_module_version": "1.5.0",
            "_model_name": "HTMLModel",
            "_view_count": null,
            "_view_module": "@jupyter-widgets/controls",
            "_view_module_version": "1.5.0",
            "_view_name": "HTMLView",
            "description": "",
            "description_tooltip": null,
            "layout": "IPY_MODEL_3e70af7289814a0185a4522366bc5b43",
            "placeholder": "​",
            "style": "IPY_MODEL_8ee1aad403034478abbbf111459b68fe",
            "value": " 28.0/28.0 [00:00&lt;00:00, 768B/s]"
          }
        },
        "a475a1b8932b419b956f63e7e5980ab7": {
          "model_module": "@jupyter-widgets/base",
          "model_name": "LayoutModel",
          "model_module_version": "1.2.0",
          "state": {
            "_model_module": "@jupyter-widgets/base",
            "_model_module_version": "1.2.0",
            "_model_name": "LayoutModel",
            "_view_count": null,
            "_view_module": "@jupyter-widgets/base",
            "_view_module_version": "1.2.0",
            "_view_name": "LayoutView",
            "align_content": null,
            "align_items": null,
            "align_self": null,
            "border": null,
            "bottom": null,
            "display": null,
            "flex": null,
            "flex_flow": null,
            "grid_area": null,
            "grid_auto_columns": null,
            "grid_auto_flow": null,
            "grid_auto_rows": null,
            "grid_column": null,
            "grid_gap": null,
            "grid_row": null,
            "grid_template_areas": null,
            "grid_template_columns": null,
            "grid_template_rows": null,
            "height": null,
            "justify_content": null,
            "justify_items": null,
            "left": null,
            "margin": null,
            "max_height": null,
            "max_width": null,
            "min_height": null,
            "min_width": null,
            "object_fit": null,
            "object_position": null,
            "order": null,
            "overflow": null,
            "overflow_x": null,
            "overflow_y": null,
            "padding": null,
            "right": null,
            "top": null,
            "visibility": null,
            "width": null
          }
        },
        "9db0b6f02742471b8d3ee8a4a01fdfc1": {
          "model_module": "@jupyter-widgets/base",
          "model_name": "LayoutModel",
          "model_module_version": "1.2.0",
          "state": {
            "_model_module": "@jupyter-widgets/base",
            "_model_module_version": "1.2.0",
            "_model_name": "LayoutModel",
            "_view_count": null,
            "_view_module": "@jupyter-widgets/base",
            "_view_module_version": "1.2.0",
            "_view_name": "LayoutView",
            "align_content": null,
            "align_items": null,
            "align_self": null,
            "border": null,
            "bottom": null,
            "display": null,
            "flex": null,
            "flex_flow": null,
            "grid_area": null,
            "grid_auto_columns": null,
            "grid_auto_flow": null,
            "grid_auto_rows": null,
            "grid_column": null,
            "grid_gap": null,
            "grid_row": null,
            "grid_template_areas": null,
            "grid_template_columns": null,
            "grid_template_rows": null,
            "height": null,
            "justify_content": null,
            "justify_items": null,
            "left": null,
            "margin": null,
            "max_height": null,
            "max_width": null,
            "min_height": null,
            "min_width": null,
            "object_fit": null,
            "object_position": null,
            "order": null,
            "overflow": null,
            "overflow_x": null,
            "overflow_y": null,
            "padding": null,
            "right": null,
            "top": null,
            "visibility": null,
            "width": null
          }
        },
        "3ab788abc3134df1b2b2337d303fd62e": {
          "model_module": "@jupyter-widgets/controls",
          "model_name": "DescriptionStyleModel",
          "model_module_version": "1.5.0",
          "state": {
            "_model_module": "@jupyter-widgets/controls",
            "_model_module_version": "1.5.0",
            "_model_name": "DescriptionStyleModel",
            "_view_count": null,
            "_view_module": "@jupyter-widgets/base",
            "_view_module_version": "1.2.0",
            "_view_name": "StyleView",
            "description_width": ""
          }
        },
        "e0d0b4867ad84ef1823af68e5f57c447": {
          "model_module": "@jupyter-widgets/base",
          "model_name": "LayoutModel",
          "model_module_version": "1.2.0",
          "state": {
            "_model_module": "@jupyter-widgets/base",
            "_model_module_version": "1.2.0",
            "_model_name": "LayoutModel",
            "_view_count": null,
            "_view_module": "@jupyter-widgets/base",
            "_view_module_version": "1.2.0",
            "_view_name": "LayoutView",
            "align_content": null,
            "align_items": null,
            "align_self": null,
            "border": null,
            "bottom": null,
            "display": null,
            "flex": null,
            "flex_flow": null,
            "grid_area": null,
            "grid_auto_columns": null,
            "grid_auto_flow": null,
            "grid_auto_rows": null,
            "grid_column": null,
            "grid_gap": null,
            "grid_row": null,
            "grid_template_areas": null,
            "grid_template_columns": null,
            "grid_template_rows": null,
            "height": null,
            "justify_content": null,
            "justify_items": null,
            "left": null,
            "margin": null,
            "max_height": null,
            "max_width": null,
            "min_height": null,
            "min_width": null,
            "object_fit": null,
            "object_position": null,
            "order": null,
            "overflow": null,
            "overflow_x": null,
            "overflow_y": null,
            "padding": null,
            "right": null,
            "top": null,
            "visibility": null,
            "width": null
          }
        },
        "2922a3268f8440008097f42c80e04382": {
          "model_module": "@jupyter-widgets/controls",
          "model_name": "ProgressStyleModel",
          "model_module_version": "1.5.0",
          "state": {
            "_model_module": "@jupyter-widgets/controls",
            "_model_module_version": "1.5.0",
            "_model_name": "ProgressStyleModel",
            "_view_count": null,
            "_view_module": "@jupyter-widgets/base",
            "_view_module_version": "1.2.0",
            "_view_name": "StyleView",
            "bar_color": null,
            "description_width": ""
          }
        },
        "3e70af7289814a0185a4522366bc5b43": {
          "model_module": "@jupyter-widgets/base",
          "model_name": "LayoutModel",
          "model_module_version": "1.2.0",
          "state": {
            "_model_module": "@jupyter-widgets/base",
            "_model_module_version": "1.2.0",
            "_model_name": "LayoutModel",
            "_view_count": null,
            "_view_module": "@jupyter-widgets/base",
            "_view_module_version": "1.2.0",
            "_view_name": "LayoutView",
            "align_content": null,
            "align_items": null,
            "align_self": null,
            "border": null,
            "bottom": null,
            "display": null,
            "flex": null,
            "flex_flow": null,
            "grid_area": null,
            "grid_auto_columns": null,
            "grid_auto_flow": null,
            "grid_auto_rows": null,
            "grid_column": null,
            "grid_gap": null,
            "grid_row": null,
            "grid_template_areas": null,
            "grid_template_columns": null,
            "grid_template_rows": null,
            "height": null,
            "justify_content": null,
            "justify_items": null,
            "left": null,
            "margin": null,
            "max_height": null,
            "max_width": null,
            "min_height": null,
            "min_width": null,
            "object_fit": null,
            "object_position": null,
            "order": null,
            "overflow": null,
            "overflow_x": null,
            "overflow_y": null,
            "padding": null,
            "right": null,
            "top": null,
            "visibility": null,
            "width": null
          }
        },
        "8ee1aad403034478abbbf111459b68fe": {
          "model_module": "@jupyter-widgets/controls",
          "model_name": "DescriptionStyleModel",
          "model_module_version": "1.5.0",
          "state": {
            "_model_module": "@jupyter-widgets/controls",
            "_model_module_version": "1.5.0",
            "_model_name": "DescriptionStyleModel",
            "_view_count": null,
            "_view_module": "@jupyter-widgets/base",
            "_view_module_version": "1.2.0",
            "_view_name": "StyleView",
            "description_width": ""
          }
        },
        "5a063d13d9e04659b76504113374433c": {
          "model_module": "@jupyter-widgets/controls",
          "model_name": "HBoxModel",
          "model_module_version": "1.5.0",
          "state": {
            "_dom_classes": [],
            "_model_module": "@jupyter-widgets/controls",
            "_model_module_version": "1.5.0",
            "_model_name": "HBoxModel",
            "_view_count": null,
            "_view_module": "@jupyter-widgets/controls",
            "_view_module_version": "1.5.0",
            "_view_name": "HBoxView",
            "box_style": "",
            "children": [
              "IPY_MODEL_da69970571d048f7871c2b4bd19da5d5",
              "IPY_MODEL_51a550785c75457d8baa6a645094240d",
              "IPY_MODEL_902f78afbb48409dace927ce8541426e"
            ],
            "layout": "IPY_MODEL_021d62ca67f7442f8430b9adaa270cd5"
          }
        },
        "da69970571d048f7871c2b4bd19da5d5": {
          "model_module": "@jupyter-widgets/controls",
          "model_name": "HTMLModel",
          "model_module_version": "1.5.0",
          "state": {
            "_dom_classes": [],
            "_model_module": "@jupyter-widgets/controls",
            "_model_module_version": "1.5.0",
            "_model_name": "HTMLModel",
            "_view_count": null,
            "_view_module": "@jupyter-widgets/controls",
            "_view_module_version": "1.5.0",
            "_view_name": "HTMLView",
            "description": "",
            "description_tooltip": null,
            "layout": "IPY_MODEL_74cb40ffe1744a95aa26c50dfa41f2f5",
            "placeholder": "​",
            "style": "IPY_MODEL_e8aff781b841452f93872c8b7ea0412e",
            "value": "Downloading: 100%"
          }
        },
        "51a550785c75457d8baa6a645094240d": {
          "model_module": "@jupyter-widgets/controls",
          "model_name": "FloatProgressModel",
          "model_module_version": "1.5.0",
          "state": {
            "_dom_classes": [],
            "_model_module": "@jupyter-widgets/controls",
            "_model_module_version": "1.5.0",
            "_model_name": "FloatProgressModel",
            "_view_count": null,
            "_view_module": "@jupyter-widgets/controls",
            "_view_module_version": "1.5.0",
            "_view_name": "ProgressView",
            "bar_style": "success",
            "description": "",
            "description_tooltip": null,
            "layout": "IPY_MODEL_5d17a8a6705e4ba491f7b8ba740429bf",
            "max": 570,
            "min": 0,
            "orientation": "horizontal",
            "style": "IPY_MODEL_9f48555ceb894350b165fb06cc2b5db5",
            "value": 570
          }
        },
        "902f78afbb48409dace927ce8541426e": {
          "model_module": "@jupyter-widgets/controls",
          "model_name": "HTMLModel",
          "model_module_version": "1.5.0",
          "state": {
            "_dom_classes": [],
            "_model_module": "@jupyter-widgets/controls",
            "_model_module_version": "1.5.0",
            "_model_name": "HTMLModel",
            "_view_count": null,
            "_view_module": "@jupyter-widgets/controls",
            "_view_module_version": "1.5.0",
            "_view_name": "HTMLView",
            "description": "",
            "description_tooltip": null,
            "layout": "IPY_MODEL_d16a590aad3a4df9bf6a403b40f17de1",
            "placeholder": "​",
            "style": "IPY_MODEL_c8bbfb645e214f678dd4142d80f612b9",
            "value": " 570/570 [00:00&lt;00:00, 18.1kB/s]"
          }
        },
        "021d62ca67f7442f8430b9adaa270cd5": {
          "model_module": "@jupyter-widgets/base",
          "model_name": "LayoutModel",
          "model_module_version": "1.2.0",
          "state": {
            "_model_module": "@jupyter-widgets/base",
            "_model_module_version": "1.2.0",
            "_model_name": "LayoutModel",
            "_view_count": null,
            "_view_module": "@jupyter-widgets/base",
            "_view_module_version": "1.2.0",
            "_view_name": "LayoutView",
            "align_content": null,
            "align_items": null,
            "align_self": null,
            "border": null,
            "bottom": null,
            "display": null,
            "flex": null,
            "flex_flow": null,
            "grid_area": null,
            "grid_auto_columns": null,
            "grid_auto_flow": null,
            "grid_auto_rows": null,
            "grid_column": null,
            "grid_gap": null,
            "grid_row": null,
            "grid_template_areas": null,
            "grid_template_columns": null,
            "grid_template_rows": null,
            "height": null,
            "justify_content": null,
            "justify_items": null,
            "left": null,
            "margin": null,
            "max_height": null,
            "max_width": null,
            "min_height": null,
            "min_width": null,
            "object_fit": null,
            "object_position": null,
            "order": null,
            "overflow": null,
            "overflow_x": null,
            "overflow_y": null,
            "padding": null,
            "right": null,
            "top": null,
            "visibility": null,
            "width": null
          }
        },
        "74cb40ffe1744a95aa26c50dfa41f2f5": {
          "model_module": "@jupyter-widgets/base",
          "model_name": "LayoutModel",
          "model_module_version": "1.2.0",
          "state": {
            "_model_module": "@jupyter-widgets/base",
            "_model_module_version": "1.2.0",
            "_model_name": "LayoutModel",
            "_view_count": null,
            "_view_module": "@jupyter-widgets/base",
            "_view_module_version": "1.2.0",
            "_view_name": "LayoutView",
            "align_content": null,
            "align_items": null,
            "align_self": null,
            "border": null,
            "bottom": null,
            "display": null,
            "flex": null,
            "flex_flow": null,
            "grid_area": null,
            "grid_auto_columns": null,
            "grid_auto_flow": null,
            "grid_auto_rows": null,
            "grid_column": null,
            "grid_gap": null,
            "grid_row": null,
            "grid_template_areas": null,
            "grid_template_columns": null,
            "grid_template_rows": null,
            "height": null,
            "justify_content": null,
            "justify_items": null,
            "left": null,
            "margin": null,
            "max_height": null,
            "max_width": null,
            "min_height": null,
            "min_width": null,
            "object_fit": null,
            "object_position": null,
            "order": null,
            "overflow": null,
            "overflow_x": null,
            "overflow_y": null,
            "padding": null,
            "right": null,
            "top": null,
            "visibility": null,
            "width": null
          }
        },
        "e8aff781b841452f93872c8b7ea0412e": {
          "model_module": "@jupyter-widgets/controls",
          "model_name": "DescriptionStyleModel",
          "model_module_version": "1.5.0",
          "state": {
            "_model_module": "@jupyter-widgets/controls",
            "_model_module_version": "1.5.0",
            "_model_name": "DescriptionStyleModel",
            "_view_count": null,
            "_view_module": "@jupyter-widgets/base",
            "_view_module_version": "1.2.0",
            "_view_name": "StyleView",
            "description_width": ""
          }
        },
        "5d17a8a6705e4ba491f7b8ba740429bf": {
          "model_module": "@jupyter-widgets/base",
          "model_name": "LayoutModel",
          "model_module_version": "1.2.0",
          "state": {
            "_model_module": "@jupyter-widgets/base",
            "_model_module_version": "1.2.0",
            "_model_name": "LayoutModel",
            "_view_count": null,
            "_view_module": "@jupyter-widgets/base",
            "_view_module_version": "1.2.0",
            "_view_name": "LayoutView",
            "align_content": null,
            "align_items": null,
            "align_self": null,
            "border": null,
            "bottom": null,
            "display": null,
            "flex": null,
            "flex_flow": null,
            "grid_area": null,
            "grid_auto_columns": null,
            "grid_auto_flow": null,
            "grid_auto_rows": null,
            "grid_column": null,
            "grid_gap": null,
            "grid_row": null,
            "grid_template_areas": null,
            "grid_template_columns": null,
            "grid_template_rows": null,
            "height": null,
            "justify_content": null,
            "justify_items": null,
            "left": null,
            "margin": null,
            "max_height": null,
            "max_width": null,
            "min_height": null,
            "min_width": null,
            "object_fit": null,
            "object_position": null,
            "order": null,
            "overflow": null,
            "overflow_x": null,
            "overflow_y": null,
            "padding": null,
            "right": null,
            "top": null,
            "visibility": null,
            "width": null
          }
        },
        "9f48555ceb894350b165fb06cc2b5db5": {
          "model_module": "@jupyter-widgets/controls",
          "model_name": "ProgressStyleModel",
          "model_module_version": "1.5.0",
          "state": {
            "_model_module": "@jupyter-widgets/controls",
            "_model_module_version": "1.5.0",
            "_model_name": "ProgressStyleModel",
            "_view_count": null,
            "_view_module": "@jupyter-widgets/base",
            "_view_module_version": "1.2.0",
            "_view_name": "StyleView",
            "bar_color": null,
            "description_width": ""
          }
        },
        "d16a590aad3a4df9bf6a403b40f17de1": {
          "model_module": "@jupyter-widgets/base",
          "model_name": "LayoutModel",
          "model_module_version": "1.2.0",
          "state": {
            "_model_module": "@jupyter-widgets/base",
            "_model_module_version": "1.2.0",
            "_model_name": "LayoutModel",
            "_view_count": null,
            "_view_module": "@jupyter-widgets/base",
            "_view_module_version": "1.2.0",
            "_view_name": "LayoutView",
            "align_content": null,
            "align_items": null,
            "align_self": null,
            "border": null,
            "bottom": null,
            "display": null,
            "flex": null,
            "flex_flow": null,
            "grid_area": null,
            "grid_auto_columns": null,
            "grid_auto_flow": null,
            "grid_auto_rows": null,
            "grid_column": null,
            "grid_gap": null,
            "grid_row": null,
            "grid_template_areas": null,
            "grid_template_columns": null,
            "grid_template_rows": null,
            "height": null,
            "justify_content": null,
            "justify_items": null,
            "left": null,
            "margin": null,
            "max_height": null,
            "max_width": null,
            "min_height": null,
            "min_width": null,
            "object_fit": null,
            "object_position": null,
            "order": null,
            "overflow": null,
            "overflow_x": null,
            "overflow_y": null,
            "padding": null,
            "right": null,
            "top": null,
            "visibility": null,
            "width": null
          }
        },
        "c8bbfb645e214f678dd4142d80f612b9": {
          "model_module": "@jupyter-widgets/controls",
          "model_name": "DescriptionStyleModel",
          "model_module_version": "1.5.0",
          "state": {
            "_model_module": "@jupyter-widgets/controls",
            "_model_module_version": "1.5.0",
            "_model_name": "DescriptionStyleModel",
            "_view_count": null,
            "_view_module": "@jupyter-widgets/base",
            "_view_module_version": "1.2.0",
            "_view_name": "StyleView",
            "description_width": ""
          }
        }
      }
    },
    "accelerator": "GPU",
    "gpuClass": "standard"
  },
  "cells": [
    {
      "cell_type": "markdown",
      "source": [
        "function ClickConnect(){\n",
        "console.log(\"Working\");\n",
        "document.querySelector(\"#top-toolbar > colab-connect-button\").shadowRoot.querySelector(\"#connect\").click();\n",
        "}\n",
        "setInterval(ClickConnect,60000)"
      ],
      "metadata": {
        "id": "7sfeFaiD88HS"
      }
    },
    {
      "cell_type": "code",
      "execution_count": null,
      "metadata": {
        "id": "FVtvHR7e8yn3",
        "colab": {
          "base_uri": "https://localhost:8080/"
        },
        "outputId": "92d408f6-2238-400e-a6df-a1c5916eaa49"
      },
      "outputs": [
        {
          "output_type": "stream",
          "name": "stdout",
          "text": [
            "Mounted at /content/drive\n"
          ]
        }
      ],
      "source": [
        "from google.colab import drive\n",
        "drive.mount('/content/drive')"
      ]
    },
    {
      "cell_type": "code",
      "source": [
        "import pandas as pd\n",
        "import pickle\n",
        "from tqdm import tqdm"
      ],
      "metadata": {
        "id": "WjucTshhNJBU"
      },
      "execution_count": null,
      "outputs": []
    },
    {
      "cell_type": "code",
      "source": [
        "version = 'v5'"
      ],
      "metadata": {
        "id": "FH9G4fs-M82k"
      },
      "execution_count": null,
      "outputs": []
    },
    {
      "cell_type": "markdown",
      "metadata": {
        "id": "N8ktHvQFFamA"
      },
      "source": [
        "### load and filter csv"
      ]
    },
    {
      "cell_type": "code",
      "execution_count": null,
      "metadata": {
        "id": "L6zksBM6HYhH"
      },
      "outputs": [],
      "source": [
        "# load csv\n",
        "train_path = \"/content/drive/Shareddrives/AI_CUP_NLP/Batch_answers - train_data (no-blank).csv\"\n",
        "train_data = pd.read_csv(train_path, encoding = \"utf-8\", index_col='id').iloc[:,:5].applymap(lambda x: x.strip('\"')).reset_index()"
      ]
    },
    {
      "cell_type": "code",
      "execution_count": null,
      "metadata": {
        "id": "WqhT9QM-UU4k"
      },
      "outputs": [],
      "source": [
        "train_data[\"length\"] = train_data[\"q'\"] + train_data[\"r'\"]\n",
        "train_data[\"length\"] = train_data[\"length\"].map(len)"
      ]
    },
    {
      "cell_type": "code",
      "execution_count": null,
      "metadata": {
        "id": "FN21wELTjjIz",
        "colab": {
          "base_uri": "https://localhost:8080/"
        },
        "outputId": "c6517112-8d4f-47e7-ac6a-fa5c0c0b20dc"
      },
      "outputs": [
        {
          "output_type": "execute_result",
          "data": {
            "text/plain": [
              "7987"
            ]
          },
          "metadata": {},
          "execution_count": 6
        }
      ],
      "source": [
        "# target sample size\n",
        "train_data.groupby(by=train_data.id).first().shape[0]"
      ]
    },
    {
      "cell_type": "code",
      "execution_count": null,
      "metadata": {
        "id": "zcZWXc-vJvpS"
      },
      "outputs": [],
      "source": [
        "idx = train_data.groupby(by=train_data.id)['length'].transform(max) == train_data['length']\n",
        "small_train_data = train_data[idx].set_index(\"id\")"
      ]
    },
    {
      "cell_type": "code",
      "execution_count": null,
      "metadata": {
        "id": "8QY5Bq52juNl"
      },
      "outputs": [],
      "source": [
        "small_train_data = small_train_data.groupby(by=small_train_data.index).first()"
      ]
    },
    {
      "cell_type": "code",
      "execution_count": null,
      "metadata": {
        "id": "V9C1uVMEq4_o"
      },
      "outputs": [],
      "source": [
        "small_train_data['q_length'] = small_train_data['q'].map(len)\n",
        "small_train_data['r_length'] = small_train_data['r'].map(len)\n",
        "small_train_data['s'] = small_train_data['s'].map(lambda x: 1 if x==\"AGREE\" else 0)"
      ]
    },
    {
      "cell_type": "code",
      "execution_count": null,
      "metadata": {
        "id": "Bnv6e_Q0ilie",
        "colab": {
          "base_uri": "https://localhost:8080/"
        },
        "outputId": "d41953f8-6d07-4a19-9f4b-6c0a45c66e25"
      },
      "outputs": [
        {
          "output_type": "execute_result",
          "data": {
            "text/plain": [
              "7987"
            ]
          },
          "metadata": {},
          "execution_count": 10
        }
      ],
      "source": [
        "# check sample size\n",
        "small_train_data.shape[0]"
      ]
    },
    {
      "cell_type": "code",
      "execution_count": null,
      "metadata": {
        "id": "A3Br1v20KoT3"
      },
      "outputs": [],
      "source": [
        "# Save\n",
        "with open(f'/content/drive/Shareddrives/AI_CUP_NLP/data_{version}/small_train_data.pickle', 'wb') as f:\n",
        "    pickle.dump(small_train_data, f)"
      ]
    },
    {
      "cell_type": "code",
      "execution_count": null,
      "metadata": {
        "id": "Q7pqLt6AKqmD"
      },
      "outputs": [],
      "source": [
        "# Load\n",
        "with open(f'/content/drive/Shareddrives/AI_CUP_NLP/data_{version}/small_train_data.pickle', 'rb') as f:\n",
        "    small_train_data = pickle.load(f)"
      ]
    },
    {
      "cell_type": "markdown",
      "source": [
        "### Remove bad words"
      ],
      "metadata": {
        "id": "U_su0V3fcnIZ"
      }
    },
    {
      "cell_type": "code",
      "source": [
        "import re"
      ],
      "metadata": {
        "id": "ocM-o71zM6mN"
      },
      "execution_count": null,
      "outputs": []
    },
    {
      "cell_type": "code",
      "source": [
        "def regex_remove(text):\n",
        "  text = re.sub(\"& #? ?[a-zA-Z\\d]{2,8} ; \", '', text)\n",
        "  text = re.sub(\"-- -- \", '', text)\n",
        "  return text"
      ],
      "metadata": {
        "id": "zqCYKNcMX24a"
      },
      "execution_count": null,
      "outputs": []
    },
    {
      "cell_type": "code",
      "source": [
        "regex_data = small_train_data.copy()\n",
        "regex_data['q'] = regex_data[\"q\"].map(regex_remove)\n",
        "regex_data['r'] = regex_data[\"r\"].map(regex_remove)"
      ],
      "metadata": {
        "id": "V4F15PWbs1SF"
      },
      "execution_count": null,
      "outputs": []
    },
    {
      "cell_type": "code",
      "source": [
        "# Save\n",
        "with open(f'/content/drive/Shareddrives/AI_CUP_NLP/data_{version}/regex_data.pickle', 'wb') as f:\n",
        "    pickle.dump(regex_data, f)"
      ],
      "metadata": {
        "id": "6yIC8P6_tTa7"
      },
      "execution_count": null,
      "outputs": []
    },
    {
      "cell_type": "code",
      "source": [
        "# Load\n",
        "with open(f'/content/drive/Shareddrives/AI_CUP_NLP/data_{version}/regex_data.pickle', 'rb') as f:\n",
        "    regex_data = pickle.load(f)"
      ],
      "metadata": {
        "id": "kQseq-pctjyT"
      },
      "execution_count": null,
      "outputs": []
    },
    {
      "cell_type": "markdown",
      "source": [
        "### testing"
      ],
      "metadata": {
        "id": "_VuEd4Qy22GW"
      }
    },
    {
      "cell_type": "code",
      "source": [
        "# 評分用LCS\n",
        "def LCS_Score(text1: str, text2: str) -> int:\n",
        "\n",
        "    text1 = [i for i in word_tokenize(text1) if len(i)>1 or i not in punctuations]\n",
        "    tokens = len(text1)\n",
        "    text2 = [i for i in word_tokenize(text2) if len(i)>1 or i not in punctuations]\n",
        "\n",
        "    if len(text2) > len(text1):\n",
        "        text1, text2 = text2, text1\n",
        "    lcs = [[0]*(len(text2)+1) for _ in range(2)]\n",
        "    for i in range(1, len(text1)+1):\n",
        "        for j in range(1, len(text2)+1):\n",
        "            if text1[i-1]== text2[j-1]:\n",
        "                lcs[i%2][j] = lcs[(i-1) % 2][j-1] +1\n",
        "            else:\n",
        "                lcs[i%2][j]= max(lcs[(i-1)%2][j], lcs[i % 2][j-1])\n",
        "    lcs = lcs[len(text1)% 2][len(text2)]\n",
        "    return  tokens, lcs / (len(text1) + len(text2) - lcs)"
      ],
      "metadata": {
        "id": "JvN96Vh624eU"
      },
      "execution_count": null,
      "outputs": []
    },
    {
      "cell_type": "code",
      "source": [
        "evaluate_df = regex_data.copy()\n",
        "q_tokens_list = []\n",
        "q_score_list = []\n",
        "r_tokens_list = []\n",
        "r_score_list = []\n",
        "\n",
        "for id in tqdm(evaluate_df.index):\n",
        "  try:\n",
        "    q_tokens, q_score = LCS_Score(evaluate_df['q'][id], evaluate_df[\"q'\"][id])\n",
        "  except:\n",
        "    break\n",
        "    q_tokens = q_score = 0\n",
        "  try:\n",
        "    r_tokens, r_score = LCS_Score(evaluate_df['r'][id], evaluate_df[\"r'\"][id])\n",
        "  except:\n",
        "    r_tokens = r_score = 0\n",
        "  q_score_list.append(q_score)\n",
        "  r_score_list.append(r_score)\n",
        "  q_tokens_list.append(q_tokens)\n",
        "  r_tokens_list.append(r_tokens)\n",
        "\n",
        "evaluate_df['q_tokens'] = q_tokens_list\n",
        "evaluate_df['q_score'] = q_score_list\n",
        "evaluate_df['r_tokens'] = r_tokens_list\n",
        "evaluate_df['r_score'] = r_score_list"
      ],
      "metadata": {
        "colab": {
          "base_uri": "https://localhost:8080/"
        },
        "id": "u4C93npU3IGe",
        "outputId": "a6045050-34fa-4e7a-e2b0-793fdb434630"
      },
      "execution_count": null,
      "outputs": [
        {
          "output_type": "stream",
          "name": "stderr",
          "text": [
            "100%|██████████| 7987/7987 [00:31<00:00, 251.57it/s]\n"
          ]
        }
      ]
    },
    {
      "cell_type": "code",
      "source": [
        "mean_q_scores = []\n",
        "mean_r_scores = []\n",
        "\n",
        "for i in tqdm(range(5, 50)):\n",
        "  q = evaluate_df[evaluate_df['q_tokens']<=i][\"q_score\"]\n",
        "  mean_q_scores.append(sum(q)/len(q))\n",
        "\n",
        "  r = evaluate_df[evaluate_df['r_tokens']<=i][\"q_score\"]\n",
        "  mean_r_scores.append(sum(r)/len(r))"
      ],
      "metadata": {
        "colab": {
          "base_uri": "https://localhost:8080/"
        },
        "id": "F5GHYdEd4a8f",
        "outputId": "ad98894c-2964-4e79-c944-dea978e1a6db"
      },
      "execution_count": null,
      "outputs": [
        {
          "output_type": "stream",
          "name": "stderr",
          "text": [
            "100%|██████████| 45/45 [00:00<00:00, 510.68it/s]\n"
          ]
        }
      ]
    },
    {
      "cell_type": "code",
      "source": [
        "import matplotlib.pyplot as plt"
      ],
      "metadata": {
        "id": "xWSk0yak5xsQ"
      },
      "execution_count": null,
      "outputs": []
    },
    {
      "cell_type": "code",
      "source": [
        "plt.plot(range(5, 50), mean_q_scores)\n",
        "plt.show()"
      ],
      "metadata": {
        "colab": {
          "base_uri": "https://localhost:8080/",
          "height": 265
        },
        "id": "F5krcLGG522r",
        "outputId": "41fed622-3363-427c-839d-ac459a2cc46c"
      },
      "execution_count": null,
      "outputs": [
        {
          "output_type": "display_data",
          "data": {
            "text/plain": [
              "<Figure size 432x288 with 1 Axes>"
            ],
            "image/png": "[encoded data removed]"
          },
          "metadata": {
            "needs_background": "light"
          }
        }
      ]
    },
    {
      "cell_type": "code",
      "source": [
        "plt.plot(range(5, 50), mean_r_scores)\n",
        "plt.show()"
      ],
      "metadata": {
        "colab": {
          "base_uri": "https://localhost:8080/",
          "height": 265
        },
        "id": "VMyXQmNQ6nwC",
        "outputId": "476ba180-d5b8-478b-e676-474a0d9ef049"
      },
      "execution_count": null,
      "outputs": [
        {
          "output_type": "display_data",
          "data": {
            "text/plain": [
              "<Figure size 432x288 with 1 Axes>"
            ],
            "image/png": "[encoded data removed]"
          },
          "metadata": {
            "needs_background": "light"
          }
        }
      ]
    },
    {
      "cell_type": "markdown",
      "source": [
        "### sentencize"
      ],
      "metadata": {
        "id": "OywshCK7mN5W"
      }
    },
    {
      "cell_type": "code",
      "source": [
        "import spacy"
      ],
      "metadata": {
        "id": "vTUyrzOyNFwh"
      },
      "execution_count": null,
      "outputs": []
    },
    {
      "cell_type": "code",
      "source": [
        "sentencizer = spacy.load('en_core_web_sm')"
      ],
      "metadata": {
        "id": "53VKAYT-BbQf"
      },
      "execution_count": null,
      "outputs": []
    },
    {
      "cell_type": "code",
      "source": [
        "def sentencize(sentence):\n",
        "  sents = []\n",
        "  for sent in sentencizer(sentence).sents:\n",
        "    str_sent = str(sent)\n",
        "    sents.extend(re.split(\"; \", str_sent))\n",
        "\n",
        "  return sents"
      ],
      "metadata": {
        "id": "ms25c4LkZON7"
      },
      "execution_count": null,
      "outputs": []
    },
    {
      "cell_type": "code",
      "source": [
        "texts = regex_data[['q', 'r', \"q'\", \"r'\"]]\n",
        "texts = texts.applymap(sentencize)"
      ],
      "metadata": {
        "id": "5_KUrkwnujHY"
      },
      "execution_count": null,
      "outputs": []
    },
    {
      "cell_type": "code",
      "source": [
        "# Save\n",
        "with open(f'/content/drive/Shareddrives/AI_CUP_NLP/data_{version}/texts.pickle', 'wb') as f:\n",
        "    pickle.dump(texts, f)"
      ],
      "metadata": {
        "id": "qHTZpAVMuMpY"
      },
      "execution_count": null,
      "outputs": []
    },
    {
      "cell_type": "code",
      "source": [
        "# Load\n",
        "with open(f'/content/drive/Shareddrives/AI_CUP_NLP/data_{version}/texts.pickle', 'rb') as f:\n",
        "    texts = pickle.load(f)"
      ],
      "metadata": {
        "id": "XnspLZNNyqW6"
      },
      "execution_count": null,
      "outputs": []
    },
    {
      "cell_type": "markdown",
      "source": [
        "### extractive summary (shorten)"
      ],
      "metadata": {
        "id": "1XImxqhDBY7O"
      }
    },
    {
      "cell_type": "code",
      "source": [
        "# !pip install -q bert-extractive-summarizer\n",
        "!pip install -q transformers"
      ],
      "metadata": {
        "id": "Ca6A5ARXBzqj",
        "colab": {
          "base_uri": "https://localhost:8080/"
        },
        "outputId": "3b5bbd7a-39ae-4ba6-b429-697d0e569541"
      },
      "execution_count": null,
      "outputs": [
        {
          "output_type": "stream",
          "name": "stdout",
          "text": [
            "\u001b[K     |████████████████████████████████| 5.8 MB 14.6 MB/s \n",
            "\u001b[K     |████████████████████████████████| 182 kB 44.8 MB/s \n",
            "\u001b[K     |████████████████████████████████| 7.6 MB 52.3 MB/s \n",
            "\u001b[?25h"
          ]
        }
      ]
    },
    {
      "cell_type": "code",
      "source": [
        "# from summarizer import Summarizer\n",
        "from transformers import BertTokenizer\n",
        "# bert_summarizer = Summarizer()\n",
        "tokenizer = BertTokenizer.from_pretrained(\"bert-base-uncased\")"
      ],
      "metadata": {
        "id": "x7GBy_dBBdOn",
        "colab": {
          "base_uri": "https://localhost:8080/",
          "height": 113,
          "referenced_widgets": [
            "0dd2ab41ffd44f4586f80a37a1a3e526",
            "121f3a0821164eb3b55562f4fee5ec35",
            "890295763a114ed58ba84a5e378ecb57",
            "1292755faf9a40cbb562fcb0d12bc3bd",
            "b314f3fcaeb44822aeffa9c25f6b4f36",
            "6e4ad0f764734f1fbeda64f8ae2f8cda",
            "70514b800bab493da0ac979545326e3d",
            "afce4ef167324bb798b0a5617b8b1b87",
            "a082abf2b19e4f8695a4d10033eb101b",
            "2c43b71ca1f24c28961dcdb6a22b863c",
            "1ccd43998b564d10b1250e6f4609ff1f",
            "9c29029de26f46dabc428d7a706abce5",
            "eb1649ae162a46b5bef1175a2173b07c",
            "e0a76dffd36a4b4697486ab7aba29913",
            "1d38a48a9a86467c853827a92c68fa4d",
            "a475a1b8932b419b956f63e7e5980ab7",
            "9db0b6f02742471b8d3ee8a4a01fdfc1",
            "3ab788abc3134df1b2b2337d303fd62e",
            "e0d0b4867ad84ef1823af68e5f57c447",
            "2922a3268f8440008097f42c80e04382",
            "3e70af7289814a0185a4522366bc5b43",
            "8ee1aad403034478abbbf111459b68fe",
            "5a063d13d9e04659b76504113374433c",
            "da69970571d048f7871c2b4bd19da5d5",
            "51a550785c75457d8baa6a645094240d",
            "902f78afbb48409dace927ce8541426e",
            "021d62ca67f7442f8430b9adaa270cd5",
            "74cb40ffe1744a95aa26c50dfa41f2f5",
            "e8aff781b841452f93872c8b7ea0412e",
            "5d17a8a6705e4ba491f7b8ba740429bf",
            "9f48555ceb894350b165fb06cc2b5db5",
            "d16a590aad3a4df9bf6a403b40f17de1",
            "c8bbfb645e214f678dd4142d80f612b9"
          ]
        },
        "outputId": "c98a753d-80e8-43f4-cc5d-d97484b9584d"
      },
      "execution_count": null,
      "outputs": [
        {
          "output_type": "display_data",
          "data": {
            "text/plain": [
              "Downloading:   0%|          | 0.00/232k [00:00<?, ?B/s]"
            ],
            "application/vnd.jupyter.widget-view+json": {
              "version_major": 2,
              "version_minor": 0,
              "model_id": "0dd2ab41ffd44f4586f80a37a1a3e526"
            }
          },
          "metadata": {}
        },
        {
          "output_type": "display_data",
          "data": {
            "text/plain": [
              "Downloading:   0%|          | 0.00/28.0 [00:00<?, ?B/s]"
            ],
            "application/vnd.jupyter.widget-view+json": {
              "version_major": 2,
              "version_minor": 0,
              "model_id": "9c29029de26f46dabc428d7a706abce5"
            }
          },
          "metadata": {}
        },
        {
          "output_type": "display_data",
          "data": {
            "text/plain": [
              "Downloading:   0%|          | 0.00/570 [00:00<?, ?B/s]"
            ],
            "application/vnd.jupyter.widget-view+json": {
              "version_major": 2,
              "version_minor": 0,
              "model_id": "5a063d13d9e04659b76504113374433c"
            }
          },
          "metadata": {}
        }
      ]
    },
    {
      "cell_type": "code",
      "source": [
        "def bert_token_length(text):\n",
        "  tokens = tokenizer.encode_plus(text, add_special_tokens=True)\n",
        "  return len(tokens['input_ids'])\n",
        "\n",
        "# def spacy_sentencize_count(sentence):\n",
        "#   return len([sent for sent in sentencizer(sentence).sents])"
      ],
      "metadata": {
        "id": "i3X1kE0BGzMs"
      },
      "execution_count": null,
      "outputs": []
    },
    {
      "cell_type": "code",
      "source": [
        "# def bert_summarize(sentence):\n",
        "\n",
        "#   token_length = bert_token_length(sentence)\n",
        "\n",
        "#   if token_length > 400:\n",
        "#     sentence_count = spacy_sentencize_count(sentence)\n",
        "#     num_sentences = round(sentence_count * 400 / token_length)\n",
        "    \n",
        "\n",
        "#     bert_summary_1 = bert_summary = ''.join(bert_summarizer(sentence, num_sentences=num_sentences))\n",
        "    \n",
        "\n",
        "#     while num_sentences>1 and bert_token_length(bert_summary) > 450:\n",
        "#       num_sentences -= 1\n",
        "#       bert_summary = ''.join(bert_summarizer(sentence, num_sentences=num_sentences))\n",
        "    \n",
        "#     if bert_summary != \"\":\n",
        "#       return bert_summary\n",
        "#     elif bert_summary_1 != \"\":\n",
        "#       return bert_summary_1\n",
        "\n",
        "#   return sentence"
      ],
      "metadata": {
        "id": "j-MIlcskBepy"
      },
      "execution_count": null,
      "outputs": []
    },
    {
      "cell_type": "code",
      "source": [
        "# summary = regex_data[['q', 'r']]\n",
        "# summary = summary.applymap(bert_summarize)"
      ],
      "metadata": {
        "id": "0WI1JxnrBmQt"
      },
      "execution_count": null,
      "outputs": []
    },
    {
      "cell_type": "code",
      "source": [
        "# res = summary['q'].map(bert_token_length).sort_values(ascending=False)"
      ],
      "metadata": {
        "id": "5TgtaSjRZ3Vo"
      },
      "execution_count": null,
      "outputs": []
    },
    {
      "cell_type": "code",
      "source": [
        "# res[:10]"
      ],
      "metadata": {
        "id": "70W0EphRleBb"
      },
      "execution_count": null,
      "outputs": []
    },
    {
      "cell_type": "code",
      "source": [
        "# # Save\n",
        "# with open(f'/content/drive/Shareddrives/AI_CUP_NLP/data_{version}/summary.pickle', 'wb') as f:\n",
        "#     pickle.dump(summary, f)"
      ],
      "metadata": {
        "id": "hNP4smqdBpYM"
      },
      "execution_count": null,
      "outputs": []
    },
    {
      "cell_type": "code",
      "source": [
        "# Load\n",
        "with open(f'/content/drive/Shareddrives/AI_CUP_NLP/data_{version}/summary.pickle', 'rb') as f:\n",
        "    summary = pickle.load(f)"
      ],
      "metadata": {
        "id": "HuOWDHWhBswf"
      },
      "execution_count": null,
      "outputs": []
    },
    {
      "cell_type": "markdown",
      "source": [
        "### reformat"
      ],
      "metadata": {
        "id": "DKDA-j_EKZWg"
      }
    },
    {
      "cell_type": "code",
      "source": [
        "import nltk\n",
        "from nltk.tokenize import word_tokenize\n",
        "nltk.download('punkt')\n",
        "punctuations = '''!\"#$%&'()*+, -./:;<=>?@[\\]^_`{|}~'''"
      ],
      "metadata": {
        "colab": {
          "base_uri": "https://localhost:8080/"
        },
        "id": "u432xNZwY7wz",
        "outputId": "a094f7f9-7658-4f8e-cc91-85a834fafa04"
      },
      "execution_count": null,
      "outputs": [
        {
          "output_type": "stream",
          "name": "stderr",
          "text": [
            "[nltk_data] Downloading package punkt to /root/nltk_data...\n",
            "[nltk_data]   Unzipping tokenizers/punkt.zip.\n"
          ]
        }
      ]
    },
    {
      "cell_type": "code",
      "source": [
        "# revised LCS for labeling\n",
        "def LCS(text1: str, text2: str) -> int:\n",
        "\n",
        "    text1 = [i for i in word_tokenize(text1) if len(i)>1 or i not in punctuations]\n",
        "    text2 = [i for i in word_tokenize(text2) if len(i)>1 or i not in punctuations]\n",
        "    len_text2 = len(text2)\n",
        "    if len_text2 == 0:\n",
        "      return 0\n",
        "\n",
        "    if len(text2) > len(text1):\n",
        "        text1, text2 = text2, text1\n",
        "    lcs = [[0]*(len(text2)+1) for _ in range(2)]\n",
        "    for i in range(1, len(text1)+1):\n",
        "        for j in range(1, len(text2)+1):\n",
        "            if text1[i-1]== text2[j-1]:\n",
        "                lcs[i%2][j] = lcs[(i-1) % 2][j-1] +1\n",
        "            else:\n",
        "                lcs[i%2][j]= max(lcs[(i-1)%2][j], lcs[i % 2][j-1])\n",
        "    lcs = lcs[len(text1)% 2][len(text2)]\n",
        "    return lcs/len_text2"
      ],
      "metadata": {
        "id": "MMN_oJJ2LtNu"
      },
      "execution_count": null,
      "outputs": []
    },
    {
      "cell_type": "code",
      "source": [
        "# revised labeling method\n",
        "\n",
        "reformat_df = pd.DataFrame(columns=['id','sentence', 'is_q', 'label'])\n",
        "\n",
        "for i in tqdm(small_train_data.index):\n",
        "  q_sentence_count = len(texts[\"q\"][i])\n",
        "  r_sentence_count = len(texts[\"r\"][i])\n",
        "  if q_sentence_count == 0 or r_sentence_count == 0:\n",
        "    continue\n",
        "  \n",
        "  ### Q ###\n",
        "  temp_df = pd.DataFrame(columns=['id', 'sentence', 'is_q', 'label'])\n",
        "  temp_df['sentence'] = texts['q'][i]\n",
        "  temp_df['is_q'] = 1\n",
        "  temp_df[\"id\"] = i\n",
        "  \n",
        "  if q_sentence_count == 1:\n",
        "    temp_df['label'] = 1\n",
        "  else:\n",
        "    score_dict = {}\n",
        "    # max_score = 0\n",
        "    # max_index = 0\n",
        "    for j, sentence in enumerate(texts['q'][i]):\n",
        "      score = LCS(sentence, small_train_data[\"q'\"][i])\n",
        "      score_dict[j] = score\n",
        "\n",
        "      # if score >= 0.7:    # label good sentences out\n",
        "      #   label_list.append(1)\n",
        "      # else:\n",
        "      #   label_list.append(0)\n",
        "\n",
        "      # if score > max_score:  # at least label one sentence out\n",
        "      #   max_score = score\n",
        "      #   max_index = j\n",
        "\n",
        "    cumsum = 0\n",
        "    label_list = [0] * q_sentence_count\n",
        "    for j, score in sorted(score_dict.items(), key=lambda item: item[1], reverse=True):\n",
        "      if score==0:\n",
        "        break\n",
        "      cumsum += score\n",
        "      label_list[j] = 1\n",
        "      if cumsum >= 0.9:\n",
        "        break\n",
        "\n",
        "    # if sum(label_list) == 0:\n",
        "    #   label_list[max_index] = 1\n",
        "\n",
        "    temp_df['label'] = label_list\n",
        "\n",
        "  reformat_df = pd.concat([reformat_df, temp_df], axis=0)\n",
        "\n",
        "  ### R ###\n",
        "  temp_df = pd.DataFrame(columns=['id', 'sentence', 'is_q', 'label'])\n",
        "  temp_df['sentence'] = texts['r'][i]\n",
        "  temp_df['is_q'] = 0\n",
        "  temp_df[\"id\"] = i\n",
        "\n",
        "  if r_sentence_count == 1:\n",
        "    temp_df['label'] = 1\n",
        "\n",
        "  else:\n",
        "    score_dict = {}\n",
        "    # max_score = 0\n",
        "    # max_index = 0\n",
        "    for j, sentence in enumerate(texts['r'][i]):\n",
        "      score = LCS(sentence, small_train_data[\"r'\"][i])\n",
        "      score_dict[j] = score\n",
        "\n",
        "      # if score >= 0.7:    # label good sentences out\n",
        "      #   label_list.append(1)\n",
        "      # else:\n",
        "      #   label_list.append(0)\n",
        "\n",
        "      # if score > max_score:  # at least label one sentence out\n",
        "      #   max_score = score\n",
        "      #   max_index = j\n",
        "\n",
        "    cumsum = 0\n",
        "    label_list = [0] * r_sentence_count\n",
        "    for j, score in sorted(score_dict.items(), key=lambda item: item[1], reverse=True):\n",
        "      if score==0:\n",
        "        break\n",
        "      cumsum += score\n",
        "      label_list[j] = 1\n",
        "      if cumsum >= 0.9:\n",
        "        break\n",
        "   \n",
        "    \n",
        "    # if sum(label_list) == 0:\n",
        "    #   label_list[max_index] = 1\n",
        "\n",
        "    temp_df['label'] = label_list\n",
        "  \n",
        "  reformat_df = pd.concat([reformat_df, temp_df], axis=0)\n",
        "  \n",
        "reformat_df = reformat_df.set_index('id', drop=True)"
      ],
      "metadata": {
        "colab": {
          "base_uri": "https://localhost:8080/"
        },
        "id": "XVwRSi7EKnpP",
        "outputId": "ef1271da-2e11-44e8-daca-6d416663883c"
      },
      "execution_count": null,
      "outputs": [
        {
          "output_type": "stream",
          "name": "stderr",
          "text": [
            "100%|██████████| 7987/7987 [01:56<00:00, 68.48it/s]\n"
          ]
        }
      ]
    },
    {
      "cell_type": "code",
      "source": [
        "# Save\n",
        "with open(f'/content/drive/Shareddrives/AI_CUP_NLP/data_{version}/reformat_df.pickle', 'wb') as f:\n",
        "    pickle.dump(reformat_df, f)"
      ],
      "metadata": {
        "id": "OEBeverWKsoH"
      },
      "execution_count": null,
      "outputs": []
    },
    {
      "cell_type": "code",
      "source": [
        "# Load\n",
        "with open(f'/content/drive/Shareddrives/AI_CUP_NLP/data_{version}/reformat_df.pickle', 'rb') as f:\n",
        "    reformat_df = pickle.load(f)"
      ],
      "metadata": {
        "id": "R2qdySC5KsNL"
      },
      "execution_count": null,
      "outputs": []
    },
    {
      "cell_type": "markdown",
      "source": [
        "### manual"
      ],
      "metadata": {
        "id": "eNYeNBA1cZ8F"
      }
    },
    {
      "cell_type": "code",
      "source": [
        "res = reformat_df.copy()\n",
        "res['tokens'] = res['sentence'].map(bert_token_length)"
      ],
      "metadata": {
        "id": "1qT190RBHJ1d"
      },
      "execution_count": null,
      "outputs": []
    },
    {
      "cell_type": "code",
      "source": [
        "res_1 = pd.merge(res, small_train_data[[\"q'\",\"r'\"]], how=\"left\", left_index=True, right_index=True).reset_index()"
      ],
      "metadata": {
        "id": "dK25Ys4Qsw8-"
      },
      "execution_count": null,
      "outputs": []
    },
    {
      "cell_type": "code",
      "source": [
        "res_2 = res_1[res_1['tokens']>100]"
      ],
      "metadata": {
        "id": "DBx88v45LeGD"
      },
      "execution_count": null,
      "outputs": []
    },
    {
      "cell_type": "code",
      "source": [
        "res_2.to_csv('/content/drive/Shareddrives/AI_CUP_NLP/WIP/res_2.csv')"
      ],
      "metadata": {
        "id": "W5D2QqwJ5bh4"
      },
      "execution_count": null,
      "outputs": []
    },
    {
      "cell_type": "markdown",
      "source": [
        "## Base Line"
      ],
      "metadata": {
        "id": "WzjrtkBl9H7v"
      }
    },
    {
      "cell_type": "code",
      "source": [
        "import pandas as pd"
      ],
      "metadata": {
        "id": "EXwiP6mi9cDb"
      },
      "execution_count": null,
      "outputs": []
    },
    {
      "cell_type": "code",
      "source": [
        "# load csv\n",
        "train_path = \"/content/drive/Shareddrives/AI_CUP_NLP/Batch_answers - test_data(no_label).csv\"\n",
        "train_data = pd.read_csv(train_path, encoding = \"utf-8\", index_col='id').iloc[:,:5].applymap(lambda x: x.strip('\"')).reset_index()"
      ],
      "metadata": {
        "id": "KTPzIMYE9FKo"
      },
      "execution_count": null,
      "outputs": []
    },
    {
      "cell_type": "code",
      "source": [
        "res_1 = train_data.copy()\n",
        "res_1['tokens'] = res_1['sentence'].map(bert_token_length)"
      ],
      "metadata": {
        "colab": {
          "base_uri": "https://localhost:8080/",
          "height": 424
        },
        "id": "2B4xlYWpRGYH",
        "outputId": "7447a687-4f7d-4128-d92f-8e7c844d5679"
      },
      "execution_count": null,
      "outputs": [
        {
          "output_type": "execute_result",
          "data": {
            "text/plain": [
              "        id                                                  q  \\\n",
              "0     6199  -- -- -- -- -- -- -- -- -- -- -- -- -- -- -- -...   \n",
              "1     5807  There 's a lot of discussion there on that iss...   \n",
              "2     8487  `` It 's not helping . The guns these people h...   \n",
              "3     1760  Shooting : 3 seriously injured in Auburn shoot...   \n",
              "4     6228  This is the argument concerning 'choice ' that...   \n",
              "...    ...                                                ...   \n",
              "2011  9499             You are betraying your belief system .   \n",
              "2012  4611  You are in a loud minority , railing against t...   \n",
              "2013  9328           You bet your XXX that 'd make me happy .   \n",
              "2014  5225            you say `` f * * * the Constitution. ``   \n",
              "2015    68  Your answers were without content or meaning ....   \n",
              "\n",
              "                                                      r         s  \n",
              "0     If so , why do we still have apes , and why ar...  DISAGREE  \n",
              "1     Of course . The makers of Expelled were within...  DISAGREE  \n",
              "2     Oh , I would wager about like Mexico , about 8...  DISAGREE  \n",
              "3     Pickup strikes group of four youths | Houston ...     AGREE  \n",
              "4     I believe there is a point at which we ( socie...  DISAGREE  \n",
              "...                                                 ...       ...  \n",
              "2011  Yep . ( I 'm assuming that by `` belief system...     AGREE  \n",
              "2012  Being in the minority or in the majority is ir...  DISAGREE  \n",
              "2013  Well , first , I probably would n't bet my XXX...  DISAGREE  \n",
              "2014  and gun nuts say f * * * the children when we ...  DISAGREE  \n",
              "2015                                                  k  DISAGREE  \n",
              "\n",
              "[2016 rows x 4 columns]"
            ],
            "text/html": [
              "\n",
              "  <div id=\"df-227e3599-756e-4049-a96e-43cd99649d33\">\n",
              "    <div class=\"colab-df-container\">\n",
              "      <div>\n",
              "<style scoped>\n",
              "    .dataframe tbody tr th:only-of-type {\n",
              "        vertical-align: middle;\n",
              "    }\n",
              "\n",
              "    .dataframe tbody tr th {\n",
              "        vertical-align: top;\n",
              "    }\n",
              "\n",
              "    .dataframe thead th {\n",
              "        text-align: right;\n",
              "    }\n",
              "</style>\n",
              "<table border=\"1\" class=\"dataframe\">\n",
              "  <thead>\n",
              "    <tr style=\"text-align: right;\">\n",
              "      <th></th>\n",
              "      <th>id</th>\n",
              "      <th>q</th>\n",
              "      <th>r</th>\n",
              "      <th>s</th>\n",
              "    </tr>\n",
              "  </thead>\n",
              "  <tbody>\n",
              "    <tr>\n",
              "      <th>0</th>\n",
              "      <td>6199</td>\n",
              "      <td>-- -- -- -- -- -- -- -- -- -- -- -- -- -- -- -...</td>\n",
              "      <td>If so , why do we still have apes , and why ar...</td>\n",
              "      <td>DISAGREE</td>\n",
              "    </tr>\n",
              "    <tr>\n",
              "      <th>1</th>\n",
              "      <td>5807</td>\n",
              "      <td>There 's a lot of discussion there on that iss...</td>\n",
              "      <td>Of course . The makers of Expelled were within...</td>\n",
              "      <td>DISAGREE</td>\n",
              "    </tr>\n",
              "    <tr>\n",
              "      <th>2</th>\n",
              "      <td>8487</td>\n",
              "      <td>`` It 's not helping . The guns these people h...</td>\n",
              "      <td>Oh , I would wager about like Mexico , about 8...</td>\n",
              "      <td>DISAGREE</td>\n",
              "    </tr>\n",
              "    <tr>\n",
              "      <th>3</th>\n",
              "      <td>1760</td>\n",
              "      <td>Shooting : 3 seriously injured in Auburn shoot...</td>\n",
              "      <td>Pickup strikes group of four youths | Houston ...</td>\n",
              "      <td>AGREE</td>\n",
              "    </tr>\n",
              "    <tr>\n",
              "      <th>4</th>\n",
              "      <td>6228</td>\n",
              "      <td>This is the argument concerning 'choice ' that...</td>\n",
              "      <td>I believe there is a point at which we ( socie...</td>\n",
              "      <td>DISAGREE</td>\n",
              "    </tr>\n",
              "    <tr>\n",
              "      <th>...</th>\n",
              "      <td>...</td>\n",
              "      <td>...</td>\n",
              "      <td>...</td>\n",
              "      <td>...</td>\n",
              "    </tr>\n",
              "    <tr>\n",
              "      <th>2011</th>\n",
              "      <td>9499</td>\n",
              "      <td>You are betraying your belief system .</td>\n",
              "      <td>Yep . ( I 'm assuming that by `` belief system...</td>\n",
              "      <td>AGREE</td>\n",
              "    </tr>\n",
              "    <tr>\n",
              "      <th>2012</th>\n",
              "      <td>4611</td>\n",
              "      <td>You are in a loud minority , railing against t...</td>\n",
              "      <td>Being in the minority or in the majority is ir...</td>\n",
              "      <td>DISAGREE</td>\n",
              "    </tr>\n",
              "    <tr>\n",
              "      <th>2013</th>\n",
              "      <td>9328</td>\n",
              "      <td>You bet your XXX that 'd make me happy .</td>\n",
              "      <td>Well , first , I probably would n't bet my XXX...</td>\n",
              "      <td>DISAGREE</td>\n",
              "    </tr>\n",
              "    <tr>\n",
              "      <th>2014</th>\n",
              "      <td>5225</td>\n",
              "      <td>you say `` f * * * the Constitution. ``</td>\n",
              "      <td>and gun nuts say f * * * the children when we ...</td>\n",
              "      <td>DISAGREE</td>\n",
              "    </tr>\n",
              "    <tr>\n",
              "      <th>2015</th>\n",
              "      <td>68</td>\n",
              "      <td>Your answers were without content or meaning ....</td>\n",
              "      <td>k</td>\n",
              "      <td>DISAGREE</td>\n",
              "    </tr>\n",
              "  </tbody>\n",
              "</table>\n",
              "<p>2016 rows × 4 columns</p>\n",
              "</div>\n",
              "      <button class=\"colab-df-convert\" onclick=\"convertToInteractive('df-227e3599-756e-4049-a96e-43cd99649d33')\"\n",
              "              title=\"Convert this dataframe to an interactive table.\"\n",
              "              style=\"display:none;\">\n",
              "        \n",
              "  <svg xmlns=\"http://www.w3.org/2000/svg\" height=\"24px\"viewBox=\"0 0 24 24\"\n",
              "       width=\"24px\">\n",
              "    <path d=\"M0 0h24v24H0V0z\" fill=\"none\"/>\n",
              "    <path d=\"M18.56 5.44l.94 2.06.94-2.06 2.06-.94-2.06-.94-.94-2.06-.94 2.06-2.06.94zm-11 1L8.5 8.5l.94-2.06 2.06-.94-2.06-.94L8.5 2.5l-.94 2.06-2.06.94zm10 10l.94 2.06.94-2.06 2.06-.94-2.06-.94-.94-2.06-.94 2.06-2.06.94z\"/><path d=\"M17.41 7.96l-1.37-1.37c-.4-.4-.92-.59-1.43-.59-.52 0-1.04.2-1.43.59L10.3 9.45l-7.72 7.72c-.78.78-.78 2.05 0 2.83L4 21.41c.39.39.9.59 1.41.59.51 0 1.02-.2 1.41-.59l7.78-7.78 2.81-2.81c.8-.78.8-2.07 0-2.86zM5.41 20L4 18.59l7.72-7.72 1.47 1.35L5.41 20z\"/>\n",
              "  </svg>\n",
              "      </button>\n",
              "      \n",
              "  <style>\n",
              "    .colab-df-container {\n",
              "      display:flex;\n",
              "      flex-wrap:wrap;\n",
              "      gap: 12px;\n",
              "    }\n",
              "\n",
              "    .colab-df-convert {\n",
              "      background-color: #E8F0FE;\n",
              "      border: none;\n",
              "      border-radius: 50%;\n",
              "      cursor: pointer;\n",
              "      display: none;\n",
              "      fill: #1967D2;\n",
              "      height: 32px;\n",
              "      padding: 0 0 0 0;\n",
              "      width: 32px;\n",
              "    }\n",
              "\n",
              "    .colab-df-convert:hover {\n",
              "      background-color: #E2EBFA;\n",
              "      box-shadow: 0px 1px 2px rgba(60, 64, 67, 0.3), 0px 1px 3px 1px rgba(60, 64, 67, 0.15);\n",
              "      fill: #174EA6;\n",
              "    }\n",
              "\n",
              "    [theme=dark] .colab-df-convert {\n",
              "      background-color: #3B4455;\n",
              "      fill: #D2E3FC;\n",
              "    }\n",
              "\n",
              "    [theme=dark] .colab-df-convert:hover {\n",
              "      background-color: #434B5C;\n",
              "      box-shadow: 0px 1px 3px 1px rgba(0, 0, 0, 0.15);\n",
              "      filter: drop-shadow(0px 1px 2px rgba(0, 0, 0, 0.3));\n",
              "      fill: #FFFFFF;\n",
              "    }\n",
              "  </style>\n",
              "\n",
              "      <script>\n",
              "        const buttonEl =\n",
              "          document.querySelector('#df-227e3599-756e-4049-a96e-43cd99649d33 button.colab-df-convert');\n",
              "        buttonEl.style.display =\n",
              "          google.colab.kernel.accessAllowed ? 'block' : 'none';\n",
              "\n",
              "        async function convertToInteractive(key) {\n",
              "          const element = document.querySelector('#df-227e3599-756e-4049-a96e-43cd99649d33');\n",
              "          const dataTable =\n",
              "            await google.colab.kernel.invokeFunction('convertToInteractive',\n",
              "                                                     [key], {});\n",
              "          if (!dataTable) return;\n",
              "\n",
              "          const docLinkHtml = 'Like what you see? Visit the ' +\n",
              "            '<a target=\"_blank\" href=https://colab.research.google.com/notebooks/data_table.ipynb>data table notebook</a>'\n",
              "            + ' to learn more about interactive tables.';\n",
              "          element.innerHTML = '';\n",
              "          dataTable['output_type'] = 'display_data';\n",
              "          await google.colab.output.renderOutput(dataTable, element);\n",
              "          const docLink = document.createElement('div');\n",
              "          docLink.innerHTML = docLinkHtml;\n",
              "          element.appendChild(docLink);\n",
              "        }\n",
              "      </script>\n",
              "    </div>\n",
              "  </div>\n",
              "  "
            ]
          },
          "metadata": {},
          "execution_count": 34
        }
      ]
    },
    {
      "cell_type": "code",
      "source": [
        "train_data[\"length\"] = train_data[\"q'\"] + train_data[\"r'\"]\n",
        "train_data[\"length\"] = train_data[\"length\"].map(len)\n",
        "idx = train_data.groupby(by=train_data.id)['length'].transform(max) == train_data['length']\n",
        "small_train_data = train_data[idx].reset_index(drop=True)\n",
        "small_train_data = small_train_data.groupby(by=small_train_data.id).first().reset_index(drop=True)"
      ],
      "metadata": {
        "id": "tntCPjnY9neB"
      },
      "execution_count": null,
      "outputs": []
    },
    {
      "cell_type": "code",
      "source": [
        "small_train_data['q_length'] = small_train_data['q'].map(len)\n",
        "small_train_data['r_length'] = small_train_data['r'].map(len)"
      ],
      "metadata": {
        "id": "zZc1l_mmQV6h"
      },
      "execution_count": null,
      "outputs": []
    },
    {
      "cell_type": "code",
      "source": [
        "# 評分用LCS\n",
        "import nltk\n",
        "nltk.download('punkt')\n",
        "from nltk.tokenize import word_tokenize\n",
        "punctuations = '''!\"#$%&'()*+, -./:;<=>?@[\\]^_`{|}~'''\n",
        "\n",
        "def longestCommonSubsequence(text1: str, text2: str) -> int:\n",
        "\n",
        "    text1 = [i for i in word_tokenize(text1) if len(i)>1 or i not in punctuations]\n",
        "    text2 = [i for i in word_tokenize(text2) if len(i)>1 or i not in punctuations]\n",
        "\n",
        "    if len(text2) > len(text1):\n",
        "        text1, text2 = text2, text1\n",
        "    lcs = [[0]*(len(text2)+1) for _ in range(2)]\n",
        "    for i in range(1, len(text1)+1):\n",
        "        for j in range(1, len(text2)+1):\n",
        "            if text1[i-1]== text2[j-1]:\n",
        "                lcs[i%2][j] = lcs[(i-1) % 2][j-1] +1\n",
        "            else:\n",
        "                lcs[i%2][j]= max(lcs[(i-1)%2][j], lcs[i % 2][j-1])\n",
        "    lcs = lcs[len(text1)% 2][len(text2)]\n",
        "    return lcs/(len(text1)+len(text2)-lcs)"
      ],
      "metadata": {
        "colab": {
          "base_uri": "https://localhost:8080/"
        },
        "id": "_p1nDMLm9BOT",
        "outputId": "1c12468d-e0aa-423c-e548-a87ddb27a10e"
      },
      "execution_count": null,
      "outputs": [
        {
          "output_type": "stream",
          "name": "stderr",
          "text": [
            "[nltk_data] Downloading package punkt to /root/nltk_data...\n",
            "[nltk_data]   Package punkt is already up-to-date!\n"
          ]
        }
      ]
    },
    {
      "cell_type": "code",
      "source": [
        "from tqdm import tqdm"
      ],
      "metadata": {
        "id": "wD2n0vDG-kRK"
      },
      "execution_count": null,
      "outputs": []
    },
    {
      "cell_type": "code",
      "source": [
        "q_score_list = []\n",
        "r_score_list = []\n",
        "\n",
        "for i in tqdm(small_train_data.index):\n",
        "  try:\n",
        "    q_score = longestCommonSubsequence(small_train_data['q'][i], small_train_data[\"q'\"][i])\n",
        "    r_score = longestCommonSubsequence(small_train_data['r'][i], small_train_data[\"r'\"][i])\n",
        "  except:\n",
        "    q_score = -1\n",
        "    r_score = -1\n",
        "\n",
        "  \n",
        "  q_score_list.append(q_score)\n",
        "  r_score_list.append(r_score)\n",
        "\n",
        "small_train_data['q_score'] = q_score_list\n",
        "small_train_data['r_score'] = r_score_list\n",
        "small_train_data['mean_score'] = (small_train_data['q_score'] + small_train_data['r_score'])/2"
      ],
      "metadata": {
        "colab": {
          "base_uri": "https://localhost:8080/"
        },
        "id": "HOxZ5mbc-Syz",
        "outputId": "a138f5fe-fbec-4374-e343-974f449cd521"
      },
      "execution_count": null,
      "outputs": [
        {
          "output_type": "stream",
          "name": "stderr",
          "text": [
            "100%|██████████| 7987/7987 [00:39<00:00, 200.41it/s]\n"
          ]
        }
      ]
    },
    {
      "cell_type": "code",
      "source": [
        "sum(small_train_data['q_score']==-1), sum(small_train_data['r_score']==-1)"
      ],
      "metadata": {
        "colab": {
          "base_uri": "https://localhost:8080/"
        },
        "id": "lKn_fk5o_hhw",
        "outputId": "c7c55fdc-58f1-460e-bcef-14e49c2fb4aa"
      },
      "execution_count": null,
      "outputs": [
        {
          "output_type": "execute_result",
          "data": {
            "text/plain": [
              "(0, 0)"
            ]
          },
          "metadata": {},
          "execution_count": 9
        }
      ]
    },
    {
      "cell_type": "code",
      "source": [
        "q_base_line = small_train_data['q_score'].sum() / small_train_data['q_score'].count()\n",
        "r_base_line = small_train_data['r_score'].sum() / small_train_data['r_score'].count()\n",
        "base_line = small_train_data['mean_score'].sum() / small_train_data['mean_score'].count()\n",
        "\n",
        "q_base_line, r_base_line, base_line"
      ],
      "metadata": {
        "colab": {
          "base_uri": "https://localhost:8080/"
        },
        "id": "7z2cwtwQ_omM",
        "outputId": "bbf9430f-3198-4ba2-df38-a65d0e50e1bd"
      },
      "execution_count": null,
      "outputs": [
        {
          "output_type": "execute_result",
          "data": {
            "text/plain": [
              "(0.7111274291681386, 0.6609471793216652, 0.686037304244902)"
            ]
          },
          "metadata": {},
          "execution_count": 10
        }
      ]
    },
    {
      "cell_type": "markdown",
      "source": [
        "## EDA"
      ],
      "metadata": {
        "id": "6ozYOXi_OFYu"
      }
    },
    {
      "cell_type": "code",
      "source": [
        "import matplotlib.pyplot as plt\n",
        "import numpy as np"
      ],
      "metadata": {
        "id": "YrdadwunKI4k"
      },
      "execution_count": null,
      "outputs": []
    },
    {
      "cell_type": "code",
      "source": [
        "def jitter(y):\n",
        "  jittered_y = y + 0.005 * np.random.rand(len(y)) -0.005 * np.random.rand(len(y))\n",
        "  return jittered_y"
      ],
      "metadata": {
        "id": "oxU0Y1DELDU_"
      },
      "execution_count": null,
      "outputs": []
    },
    {
      "cell_type": "code",
      "source": [
        "q_data = small_train_data[small_train_data['q_length']<=2000]\n",
        "plt.scatter(q_data['q_length'], jitter(q_data['q_score']))\n",
        "plt.show()"
      ],
      "metadata": {
        "colab": {
          "base_uri": "https://localhost:8080/",
          "height": 265
        },
        "id": "yv8_1F66KOAd",
        "outputId": "d4c49a7a-2629-4520-c15d-95caf7e93a24"
      },
      "execution_count": null,
      "outputs": [
        {
          "output_type": "display_data",
          "data": {
            "text/plain": [
              "<Figure size 432x288 with 1 Axes>"
            ],
            "image/png": "[encoded data removed]"
          },
          "metadata": {
            "needs_background": "light"
          }
        }
      ]
    },
    {
      "cell_type": "code",
      "source": [
        "len(small_train_data) - len(q_data)"
      ],
      "metadata": {
        "colab": {
          "base_uri": "https://localhost:8080/"
        },
        "id": "H8-0J1NMaf8F",
        "outputId": "ecbf2a94-24ab-49ec-cdbe-ddcbebfb840b"
      },
      "execution_count": null,
      "outputs": [
        {
          "output_type": "execute_result",
          "data": {
            "text/plain": [
              "116"
            ]
          },
          "metadata": {},
          "execution_count": 120
        }
      ]
    },
    {
      "cell_type": "code",
      "source": [
        "r_data = small_train_data[small_train_data['r_length']<=2000]\n",
        "plt.scatter(r_data['r_length'], jitter(r_data['r_score']))\n",
        "plt.show()"
      ],
      "metadata": {
        "colab": {
          "base_uri": "https://localhost:8080/",
          "height": 265
        },
        "id": "yrPTw2ceKiH9",
        "outputId": "8d026eac-f3d7-48da-9796-84420a3e6f13"
      },
      "execution_count": null,
      "outputs": [
        {
          "output_type": "display_data",
          "data": {
            "text/plain": [
              "<Figure size 432x288 with 1 Axes>"
            ],
            "image/png": "[encoded data removed]"
          },
          "metadata": {
            "needs_background": "light"
          }
        }
      ]
    },
    {
      "cell_type": "code",
      "source": [
        "len(small_train_data) - len(r_data)"
      ],
      "metadata": {
        "colab": {
          "base_uri": "https://localhost:8080/"
        },
        "id": "eRu4AiwialaZ",
        "outputId": "690862e3-b520-4be2-c066-b3daf4d96432"
      },
      "execution_count": null,
      "outputs": [
        {
          "output_type": "execute_result",
          "data": {
            "text/plain": [
              "136"
            ]
          },
          "metadata": {},
          "execution_count": 121
        }
      ]
    },
    {
      "cell_type": "markdown",
      "source": [
        "## find average max length for bert"
      ],
      "metadata": {
        "id": "Lci__zlDV7hD"
      }
    },
    {
      "cell_type": "code",
      "source": [
        "from transformers import BertTokenizer\n",
        "BERT_MODEL_NAME = \"bert-base-uncased\" # we will use the BERT base model(the smaller one)\n",
        "tokenizer = BertTokenizer.from_pretrained(BERT_MODEL_NAME)"
      ],
      "metadata": {
        "colab": {
          "base_uri": "https://localhost:8080/",
          "height": 113,
          "referenced_widgets": [
            "09a2a77a83104a8dbe289952dfa74463",
            "7e20ff77fcd449eaa73ced6fe453cfba",
            "527ef5e2f47e4651bf50d07473c0b7e0",
            "500fac7c152348deb7c584c591799f10",
            "f1ef2a23c5724b688abe09686789cc55",
            "4a1e8b3889f642739125d03ab1e5f9b3",
            "bbc03717d8da4c988760372b88a3770a",
            "0f0f8fb058ba4ef09ee07ea54d17cc9f",
            "21ff84c5f9c44c788e6d81b1c2c3a531",
            "df578e801d8b46e4995b57f4a8e67f49",
            "4ae3f8d644874e289d70d60a3a14b37d",
            "a868cc80edb9475a85a729773b556366",
            "cb9be2160f9840a7a83015c5173abc42",
            "155e613d882844068c96c19a06e390ce",
            "d29a9fd16e984c6aa1d8286d0c069dc0",
            "0bb8e5cb4a174deca75373f78396df37",
            "d7bdf6bc7c38489b8983fad84232c766",
            "677f07401a384dc0acc0354fb9303f49",
            "f5af999134554e5b9dc789d4ba6066d3",
            "69177e99cc75411182813859f09f36c4",
            "2630616933364c1987c9b60253531e76",
            "f9cd2129e8184cc2af00f5f0294b4567",
            "fa5db75f6da24900ad77ff6fb27e4df6",
            "1f78a3b6936a419791d5eaeeb0c059ca",
            "e139918f4fc74b08a844169f0cf018ca",
            "6af0c475729a43bfa146c25ab0b1dafd",
            "d7194c2666a546dda86e61031e95f50a",
            "5262756676ef4d52b3e36616882ef286",
            "7eb3befb342a4604a51f6ae304e07470",
            "3bcebabd8d03434aaa9188ea470bc217",
            "66bfff4008f54724ae8ae051bf204cb6",
            "37e43e795a3d4a8e88b3441e66529906",
            "ac1d820d4048450d9e92e292d5a7fb5c"
          ]
        },
        "id": "Sh008h5xV4Xd",
        "outputId": "5701ee1f-5e75-4abe-d35e-3c3e5439a8ff"
      },
      "execution_count": null,
      "outputs": [
        {
          "output_type": "display_data",
          "data": {
            "text/plain": [
              "Downloading:   0%|          | 0.00/232k [00:00<?, ?B/s]"
            ],
            "application/vnd.jupyter.widget-view+json": {
              "version_major": 2,
              "version_minor": 0,
              "model_id": "09a2a77a83104a8dbe289952dfa74463"
            }
          },
          "metadata": {}
        },
        {
          "output_type": "display_data",
          "data": {
            "text/plain": [
              "Downloading:   0%|          | 0.00/28.0 [00:00<?, ?B/s]"
            ],
            "application/vnd.jupyter.widget-view+json": {
              "version_major": 2,
              "version_minor": 0,
              "model_id": "a868cc80edb9475a85a729773b556366"
            }
          },
          "metadata": {}
        },
        {
          "output_type": "display_data",
          "data": {
            "text/plain": [
              "Downloading:   0%|          | 0.00/570 [00:00<?, ?B/s]"
            ],
            "application/vnd.jupyter.widget-view+json": {
              "version_major": 2,
              "version_minor": 0,
              "model_id": "fa5db75f6da24900ad77ff6fb27e4df6"
            }
          },
          "metadata": {}
        }
      ]
    },
    {
      "cell_type": "code",
      "source": [
        "test_list = []\n",
        "count = 0\n",
        "for i in small_train_data.index:\n",
        "  if small_train_data['q_length'][i] > 5000:\n",
        "    test_list.append(i)\n",
        "    count+=1"
      ],
      "metadata": {
        "id": "W7Ga6zh_Xi9x"
      },
      "execution_count": null,
      "outputs": []
    },
    {
      "cell_type": "code",
      "source": [
        "def get_bert_length(sentence):\n",
        "  input_ids = tokenizer(sentence, truncation=True)['input_ids']\n",
        "  max_length = len(tokenizer.decode(input_ids, skip_special_tokens=True))\n",
        "  return max_length"
      ],
      "metadata": {
        "id": "yd6jCiZuWOdt"
      },
      "execution_count": null,
      "outputs": []
    },
    {
      "cell_type": "code",
      "source": [
        "length_list = [get_bert_length(small_train_data['q'][i]) for i in test_list]"
      ],
      "metadata": {
        "id": "-u8Pvrg5WXNs"
      },
      "execution_count": null,
      "outputs": []
    },
    {
      "cell_type": "code",
      "source": [
        "len(length_list)"
      ],
      "metadata": {
        "colab": {
          "base_uri": "https://localhost:8080/"
        },
        "id": "IBTiSVfMZQZy",
        "outputId": "f7fe13fd-7113-4dcd-e087-b159559ae670"
      },
      "execution_count": null,
      "outputs": [
        {
          "output_type": "execute_result",
          "data": {
            "text/plain": [
              "27"
            ]
          },
          "metadata": {},
          "execution_count": 113
        }
      ]
    },
    {
      "cell_type": "code",
      "source": [
        "list(np.quantile(length_list, q = np.array([0, 0.01, 0.1, 0.25, 0.5, 0.75, 0.9, 0.99, 1])))"
      ],
      "metadata": {
        "colab": {
          "base_uri": "https://localhost:8080/"
        },
        "id": "b1Rx_WL3Ygm5",
        "outputId": "087f3089-012a-40d6-cdcb-06b3ef139f31"
      },
      "execution_count": null,
      "outputs": [
        {
          "output_type": "execute_result",
          "data": {
            "text/plain": [
              "[2078.0, 2119.86, 2245.6, 2295.0, 2430.0, 2482.0, 2515.6, 2624.44, 2652.0]"
            ]
          },
          "metadata": {},
          "execution_count": 114
        }
      ]
    },
    {
      "cell_type": "code",
      "source": [
        "r_test_list = []\n",
        "for i in small_train_data.index:\n",
        "  if small_train_data['r_length'][i] > 5000:\n",
        "    r_test_list.append(i)"
      ],
      "metadata": {
        "id": "u8B5OrO2ZbuY"
      },
      "execution_count": null,
      "outputs": []
    },
    {
      "cell_type": "code",
      "source": [
        "r_length_list = [get_bert_length(small_train_data['r'][i]) for i in r_test_list]"
      ],
      "metadata": {
        "id": "KjXk0M72ZSyI"
      },
      "execution_count": null,
      "outputs": []
    },
    {
      "cell_type": "code",
      "source": [
        "len(r_length_list)"
      ],
      "metadata": {
        "colab": {
          "base_uri": "https://localhost:8080/"
        },
        "id": "I2mBMqf8ZWOA",
        "outputId": "d1d93981-59b0-4f74-9b1e-d924fdd3ffd4"
      },
      "execution_count": null,
      "outputs": [
        {
          "output_type": "execute_result",
          "data": {
            "text/plain": [
              "25"
            ]
          },
          "metadata": {},
          "execution_count": 117
        }
      ]
    },
    {
      "cell_type": "code",
      "source": [
        "list(np.quantile(r_length_list, q = np.array([0, 0.01, 0.1, 0.25, 0.5, 0.75, 0.9, 0.99, 1])))"
      ],
      "metadata": {
        "colab": {
          "base_uri": "https://localhost:8080/"
        },
        "id": "jU45-2UsZg7Y",
        "outputId": "8d8be46e-cf2c-46b9-8e44-c5a24de5359d"
      },
      "execution_count": null,
      "outputs": [
        {
          "output_type": "execute_result",
          "data": {
            "text/plain": [
              "[1796.0, 1831.28, 2120.0, 2257.0, 2320.0, 2349.0, 2476.0, 2491.84, 2494.0]"
            ]
          },
          "metadata": {},
          "execution_count": 118
        }
      ]
    },
    {
      "cell_type": "code",
      "source": [
        "!pip install -q bert-extractive-summarizer\n",
        "!pip install -q transformers\n",
        "!pip install -q spacy\n",
        "!pip install -q gensim==3.8.0\n",
        "!pip install -q pysummarization"
      ],
      "metadata": {
        "colab": {
          "base_uri": "https://localhost:8080/"
        },
        "id": "68RMVewzPdgb",
        "outputId": "fe6a26c2-40dd-4047-8f2e-245e3809efa9"
      },
      "execution_count": null,
      "outputs": [
        {
          "output_type": "stream",
          "name": "stdout",
          "text": [
            "\u001b[K     |████████████████████████████████| 5.5 MB 7.7 MB/s \n",
            "\u001b[K     |████████████████████████████████| 182 kB 64.6 MB/s \n",
            "\u001b[K     |████████████████████████████████| 7.6 MB 36.4 MB/s \n",
            "\u001b[K     |████████████████████████████████| 24.2 MB 1.3 MB/s \n",
            "\u001b[K     |████████████████████████████████| 64 kB 1.5 MB/s \n",
            "\u001b[?25h  Building wheel for pysummarization (setup.py) ... \u001b[?25l\u001b[?25hdone\n"
          ]
        }
      ]
    },
    {
      "cell_type": "code",
      "source": [
        "from summarizer import Summarizer,TransformerSummarizer\n",
        "bert_model = Summarizer()\n",
        "def bert_summarize(sentence, length):\n",
        "  if length<=2000:\n",
        "    return sentence\n",
        "  bert_summary = ''.join(bert_model(sentence, max_length=2000))\n",
        "  return bert_summary"
      ],
      "metadata": {
        "id": "RFq2SW8GQ70o"
      },
      "execution_count": null,
      "outputs": []
    },
    {
      "cell_type": "code",
      "source": [
        "import warnings\n",
        "warnings.filterwarnings(\"ignore\")"
      ],
      "metadata": {
        "id": "wZeCcegbV13x"
      },
      "execution_count": null,
      "outputs": []
    },
    {
      "cell_type": "code",
      "source": [
        "small_train_data['q_summary'] = ''\n",
        "small_train_data['r_summary'] = ''\n",
        "\n",
        "for i in tqdm(small_train_data.index):\n",
        "  small_train_data['q_summary'][i] = bert_summarize(small_train_data['q'][i], small_train_data['q_length'][i])\n",
        "  small_train_data['r_summary'][i] = bert_summarize(small_train_data['r'][i], small_train_data['r_length'][i])"
      ],
      "metadata": {
        "colab": {
          "base_uri": "https://localhost:8080/"
        },
        "id": "vbeozZX6R84w",
        "outputId": "3d48a42d-8e48-4d6c-949c-f4872f2232cf"
      },
      "execution_count": null,
      "outputs": [
        {
          "output_type": "stream",
          "name": "stderr",
          "text": [
            "100%|██████████| 7987/7987 [1:02:14<00:00,  2.14it/s]\n"
          ]
        }
      ]
    },
    {
      "cell_type": "code",
      "source": [
        "import pickle"
      ],
      "metadata": {
        "id": "AA4jKKWOs354"
      },
      "execution_count": null,
      "outputs": []
    },
    {
      "cell_type": "code",
      "source": [
        "# Save\n",
        "with open('/content/drive/Shareddrives/AI_CUP_NLP/summary.pickle', 'wb') as f:\n",
        "    pickle.dump(small_train_data, f)"
      ],
      "metadata": {
        "id": "G0qVl002sU3l"
      },
      "execution_count": null,
      "outputs": []
    },
    {
      "cell_type": "code",
      "source": [
        "# Load\n",
        "# with open('/content/drive/Shareddrives/AI_CUP_NLP/summary.pickle', 'rb') as f:\n",
        "#     summary = pickle.load(f)"
      ],
      "metadata": {
        "id": "4neBE6GAs1wq"
      },
      "execution_count": null,
      "outputs": []
    }
  ]
}